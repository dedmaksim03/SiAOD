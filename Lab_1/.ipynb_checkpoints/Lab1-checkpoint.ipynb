{
 "cells": [
  {
   "cell_type": "markdown",
   "id": "fifteen-sailing",
   "metadata": {
    "id": "fifteen-sailing"
   },
   "source": [
    "# Лабораторная работа №1\n",
    "## Выполнил студент группыБВТ2101 Горский Максим Сергеевич"
   ]
  },
  {
   "cell_type": "markdown",
   "id": "particular-syndicate",
   "metadata": {
    "id": "particular-syndicate"
   },
   "source": [
    "### Оглавление\n",
    "1. [Задание 1](#Задание-№1)\n",
    "2. [Задание 2](#Задание-№2)\n",
    "3. [Задание 3](#Задание-№3)\n",
    "4. [Вывод](#Вывод)"
   ]
  },
  {
   "cell_type": "markdown",
   "id": "arctic-stocks",
   "metadata": {
    "id": "arctic-stocks"
   },
   "source": [
    "### Задание №1\n",
    "<i> Вызвать функцию print() и передать туда строку Hello, World! </i>"
   ]
  },
  {
   "cell_type": "code",
   "execution_count": 2,
   "id": "caring-truck",
   "metadata": {
    "id": "caring-truck",
    "scrolled": true
   },
   "outputs": [
    {
     "name": "stdout",
     "output_type": "stream",
     "text": [
      "Hello, World!\n"
     ]
    }
   ],
   "source": [
    "print(\"Hello, World!\")"
   ]
  },
  {
   "cell_type": "markdown",
   "id": "maritime-conversation",
   "metadata": {
    "id": "maritime-conversation"
   },
   "source": [
    "### Задание №2\n",
    "Написать генератор случайных матриц(многомерных), который принимает\n",
    "опциональные параметры <b>m</b>, <b>n</b>, <b>min_limit</b>, <b>max_limit</b>, где <b>m</b> и <b>n</b> указывают размер\n",
    "матрицы, а <b>min_lim</b> и <b>max_lim</b> - минимальное и максимальное значение для\n",
    "генерируемого числа."
   ]
  },
  {
   "cell_type": "code",
   "execution_count": 3,
   "id": "built-contact",
   "metadata": {
    "id": "built-contact"
   },
   "outputs": [],
   "source": [
    "import random\n",
    "import time"
   ]
  },
  {
   "cell_type": "code",
   "execution_count": 20,
   "id": "alert-charm",
   "metadata": {
    "id": "alert-charm",
    "outputId": "c95dd9e7-d076-4718-b6fb-25f2e6bc03b9",
    "scrolled": true
   },
   "outputs": [
    {
     "data": {
      "text/plain": [
       "[[44, 35, 39, 37, 13, 15, 10, 28, 31, 35],\n",
       " [24, 38, 2, 28, 12, 1, 35, 19, 33, 10],\n",
       " [26, 36, 14, 34, 22, 23, 4, 49, 32, 26],\n",
       " [31, 41, 1, 17, 16, 38, 48, 16, 33, 28],\n",
       " [8, 10, 0, 50, 10, 48, 35, 1, 5, 8],\n",
       " [25, 43, 7, 23, 48, 37, 12, 45, 28, 6],\n",
       " [20, 49, 13, 25, 23, 10, 32, 28, 5, 27],\n",
       " [33, 24, 9, 28, 8, 40, 34, 17, 17, 45],\n",
       " [0, 41, 22, 41, 30, 0, 38, 12, 4, 34],\n",
       " [30, 2, 17, 29, 35, 28, 19, 18, 24, 6]]"
      ]
     },
     "execution_count": 20,
     "metadata": {},
     "output_type": "execute_result"
    }
   ],
   "source": [
    "# Создает рандомную квадратную матрицу\n",
    "# k - размер матрицы. pt - надо ли выводить ее\n",
    "def make_matrix(k):\n",
    "    user_n = user_m = k\n",
    "    user_min_limit, user_max_limit = 0, random.randint(1, 100)\n",
    "    matrix = []\n",
    "    for i in range(user_n):\n",
    "        matrix.append([0] * user_m)\n",
    "    for i in range(user_n):\n",
    "        for j in range(user_m):\n",
    "            matrix[i][j] = random.randint(user_min_limit, user_max_limit)\n",
    "\n",
    "    return matrix\n",
    "\n",
    "make_matrix(10)"
   ]
  },
  {
   "cell_type": "markdown",
   "id": "catholic-roots",
   "metadata": {
    "id": "catholic-roots"
   },
   "source": [
    "### Задание №3\n",
    "Реализовать методы сортировки строк числовой матрицы в соответствии с\n",
    "заданием. Оценить время работы каждого алгоритма сортировки и сравнить его со\n",
    "временем стандартной функции сортировки. Испытания проводить на сгенерированных\n",
    "матрицах."
   ]
  },
  {
   "cell_type": "code",
   "execution_count": 25,
   "id": "opposed-creature",
   "metadata": {
    "id": "opposed-creature"
   },
   "outputs": [],
   "source": [
    "import copy\n",
    "import math\n"
   ]
  },
  {
   "cell_type": "code",
   "execution_count": 8,
   "id": "cleared-anniversary",
   "metadata": {
    "id": "cleared-anniversary",
    "outputId": "b7c76c60-4acb-4c14-9bfb-d4f8d71093a1"
   },
   "outputs": [
    {
     "name": "stdout",
     "output_type": "stream",
     "text": [
      "--- 1 ms ---\n"
     ]
    }
   ],
   "source": [
    "# Сортировка выбором.\n",
    "# Берётся срез массива, в котором минимальный элемент переносят в самый левый угол,\n",
    "# после чего срез уменьшается и цикл повторяется.\n",
    "def sort_choice(matrix_old):\n",
    "    matrix = copy.deepcopy(matrix_old)\n",
    "    for line in range(len(matrix)):  # Перебираем строки\n",
    "        for column in range(len(matrix[line])):  # Перебираем столбцы\n",
    "            min = matrix[line][column]\n",
    "            min_coord = column\n",
    "            for i in range(column, len(matrix[line])):  # Перебор строки - каждый раз перебираем с нового числа (+1)\n",
    "                if matrix[line][i] < min:\n",
    "                    min = matrix[line][i]\n",
    "                    min_coord = i\n",
    "            matrix[line][column], matrix[line][min_coord] = matrix[line][min_coord], matrix[line][column]\n",
    "start_time = time.time()\n",
    "sort_choice(matrix_old)\n",
    "print(\"--- {0} ms ---\".format(round((time.time() - start_time)*1000)))"
   ]
  },
  {
   "cell_type": "code",
   "execution_count": 9,
   "id": "roman-silly",
   "metadata": {
    "id": "roman-silly",
    "outputId": "84666b71-fb68-4c07-d27d-e716af29fcbb",
    "scrolled": true
   },
   "outputs": [
    {
     "name": "stdout",
     "output_type": "stream",
     "text": [
      "--- 1 ms ---\n"
     ]
    }
   ],
   "source": [
    "# Сортировка вставкой. Перебираем каждый элемент\n",
    "# Отдельно выбранный элемент, перемещаем влево до тех пор, пока он не станет больше числа, которое находится левее него\n",
    "def sort_put(matrix_old):\n",
    "    matrix = copy.deepcopy(matrix_old)\n",
    "    for line in range(len(matrix)):  # Перебираем строки\n",
    "        for i in range(1, len(matrix[line])):  # Перебираем столбцы\n",
    "            k = i\n",
    "            while k > 0:\n",
    "                if matrix[line][k] < matrix[line][k - 1]:\n",
    "                    matrix[line][k], matrix[line][k - 1] = matrix[line][k - 1], matrix[line][k]\n",
    "                else:\n",
    "                    break\n",
    "                k -= 1\n",
    "start_time = time.time()\n",
    "sort_put(matrix_old)\n",
    "print(\"--- {0} ms ---\".format(round((time.time() - start_time)*1000)))"
   ]
  },
  {
   "cell_type": "code",
   "execution_count": 10,
   "id": "vital-implementation",
   "metadata": {
    "id": "vital-implementation",
    "outputId": "7b648bf5-37a5-4d47-926d-b799f7a23be2"
   },
   "outputs": [
    {
     "name": "stdout",
     "output_type": "stream",
     "text": [
      "--- 1 ms ---\n"
     ]
    }
   ],
   "source": [
    "# Сортировка обменом. || Сортировка пузырьком.\n",
    "# Проходимся по массиву много раз, и, останавливаясь на числе, сравниваем его со следующим. Если надо меняем местами\n",
    "def sort_bubble(matrix_old):\n",
    "    matrix = copy.deepcopy(matrix_old)\n",
    "    for line in range(len(matrix)):  # Перебираем строки\n",
    "        while True:\n",
    "            stop = True  # Проверка на то, есть ли неотсортированные числа\n",
    "            for j in range(len(matrix[line]) - 1):\n",
    "                if matrix[line][j] > matrix[line][j + 1]:\n",
    "                    matrix[line][j], matrix[line][j + 1] = matrix[line][j + 1], matrix[line][j]\n",
    "                    stop = False\n",
    "            if stop:\n",
    "                break\n",
    "start_time = time.time()\n",
    "sort_bubble(matrix_old)\n",
    "print(\"--- {0} ms ---\".format(round((time.time() - start_time)*1000)))"
   ]
  },
  {
   "cell_type": "code",
   "execution_count": 11,
   "id": "veterinary-glory",
   "metadata": {
    "id": "veterinary-glory",
    "outputId": "9cc2a9ff-ec7a-43de-e4a8-47945d030986"
   },
   "outputs": [
    {
     "name": "stdout",
     "output_type": "stream",
     "text": [
      "--- 4 ms ---\n"
     ]
    }
   ],
   "source": [
    "# Сортировка Шелла.\n",
    "# Улучшенный вариант сортировки вставками\n",
    "# Сравниваются не только элементы стоящие рядом, но и на определенном расстоянии\n",
    "def sort_shell(matrix_old):\n",
    "    matrix = copy.deepcopy(matrix_old)\n",
    "    for line in range(len(matrix)):  # Перебираем строки\n",
    "        n = len(matrix[line])  # Длина массива\n",
    "        k = int(math.log2(n))  # Используется что бы вычислить интервал\n",
    "        interval = 2 ** k - 1  # Интервал сравнения\n",
    "        while interval > 0:  # Минимальное значение интервала: 1\n",
    "            for i in range(interval, n):  # Перебираем массив, но не с начала, а с вычесленного интервала\n",
    "                temp = matrix[line][i]  # Элемент, с которым будем сравнивать\n",
    "                j = i\n",
    "                while j >= interval and matrix[line][j - interval] > temp:\n",
    "                    matrix[line][j] = matrix[line][j - interval]\n",
    "                    j -= interval\n",
    "                matrix[line][j] = temp\n",
    "            k -= 1\n",
    "            interval = 2 ** k - 1\n",
    "start_time = time.time()\n",
    "sort_shell(matrix_old)\n",
    "print(\"--- {0} ms ---\".format(round((time.time() - start_time)*1000)))"
   ]
  },
  {
   "cell_type": "code",
   "execution_count": 12,
   "id": "correct-chaos",
   "metadata": {
    "id": "correct-chaos",
    "outputId": "f4d9aef1-8a2f-46a0-def0-4c9e049f5c77"
   },
   "outputs": [
    {
     "name": "stdout",
     "output_type": "stream",
     "text": [
      "--- 1 ms ---\n"
     ]
    }
   ],
   "source": [
    "# Быстрая сортировка.\n",
    "# Использует сортировку quick_sort\n",
    "def sort_fast(matrix_old):\n",
    "    # Разделяет массив на две части: одна больше числа pivot, другая - меньше\n",
    "    # Возращает pivot, который является неким разделителем\n",
    "    def partition(array, begin, end):\n",
    "        pivot = begin  # Индекс вспомогательной точки\n",
    "        for i in range(begin + 1, end + 1):\n",
    "            if array[i] <= array[begin]:  # Сравнение с первым числом списка\n",
    "                pivot += 1\n",
    "                array[i], array[pivot] = array[pivot], array[i]\n",
    "        array[pivot], array[begin] = array[begin], array[pivot]\n",
    "        return pivot\n",
    "\n",
    "    # Разделяет массив на две части с помощью вспомогательной функции partition\n",
    "    # Рекурсивно вызывается для каждой новой половинки, тем самым сортируя весь массив\n",
    "    def quick_sort(array, begin=0, end=None):\n",
    "        if end is None:  # Первая инициализация end\n",
    "            end = len(array) - 1\n",
    "\n",
    "        def _quicksort(array, begin, end):\n",
    "            if begin >= end:\n",
    "                return\n",
    "            pivot = partition(array, begin, end)\n",
    "            _quicksort(array, begin, pivot - 1)  # Для левой части\n",
    "            _quicksort(array, pivot + 1, end)  # Для правой части\n",
    "\n",
    "        return _quicksort(array, begin, end)\n",
    "\n",
    "    matrix = copy.deepcopy(matrix_old)\n",
    "    for line in range(len(matrix)):  # Перебираем строки\n",
    "        quick_sort(matrix[line])\n",
    "start_time = time.time()\n",
    "sort_fast(matrix_old)\n",
    "print(\"--- {0} ms ---\".format(round((time.time() - start_time)*1000)))"
   ]
  },
  {
   "cell_type": "code",
   "execution_count": 13,
   "id": "french-czech",
   "metadata": {
    "colab": {
     "base_uri": "https://localhost:8080/",
     "height": 217
    },
    "id": "french-czech",
    "outputId": "7e38b779-8bbf-4955-c3ad-2a6be0ee386a"
   },
   "outputs": [
    {
     "name": "stdout",
     "output_type": "stream",
     "text": [
      "--- 1 ms ---\n"
     ]
    }
   ],
   "source": [
    "# Турнирная сортировка.\n",
    "def sort_tournament(matrix_old):\n",
    "    # Получает минимальный элемент из кучи\n",
    "    def get_min(heap: list):\n",
    "        result = heap[0]\n",
    "        heap[0] = heap[len(heap) - 1]  # На место убранного элемента ставим последний элемент\n",
    "        heap.pop(len(heap) - 1)  # Удаление последнего элемента\n",
    "        return result\n",
    "\n",
    "    # Восстанавливает основное свойство кучи для дерева с корнем в i-ой вершине\n",
    "    def heapify(i, heap: list):\n",
    "        while True:\n",
    "            left_child = 2 * i + 1  # Левая вершина\n",
    "            right_child = 2 * i + 2  # Правая вершина\n",
    "            smallest_child = i  # Наименьший элемент\n",
    "            if left_child < len(heap):  # Проверка, чтобы не выйти за пределы массива\n",
    "                if heap[left_child] < heap[smallest_child]:  # Если найден новый мин. элемент - меняем индекс\n",
    "                    smallest_child = left_child\n",
    "            if right_child < len(heap):\n",
    "                if heap[right_child] < heap[smallest_child]:\n",
    "                    smallest_child = right_child\n",
    "            if smallest_child == i:  # Заканчиваем, когда меньшего элемента не нашлось\n",
    "                break\n",
    "            heap[i], heap[smallest_child] = heap[smallest_child], heap[i]  # Меняем местами прежний и нынешний мин. эл.\n",
    "            i = smallest_child  # Новый индекс для нового минимального элемента\n",
    "\n",
    "    matrix = copy.deepcopy(matrix_old)\n",
    "    for line in range(len(matrix)):  # Перебираем строки\n",
    "        heap = copy.deepcopy(matrix[line])  # Куча\n",
    "        new_list = []  # Отсортированный массив\n",
    "        for i in range(len(matrix[line]) // 2, -1, -1):  # Создаем кучу из всех элементов изначального массива\n",
    "            heapify(i, heap)\n",
    "        for i in range(0, len(heap) - 1):  # Проходимся количество раз, равное длине кучи\n",
    "            new_list.append(get_min(heap))  # Добавляем минимальный элемент в массив с минимальными элементами\n",
    "            heapify(0, heap)  # \"Обновляем\" кучу, начиная с первого элемента\n",
    "        new_list.append(heap[0])\n",
    "        matrix[line] = new_list\n",
    "start_time = time.time()\n",
    "sort_tournament(matrix_old)\n",
    "print(\"--- {0} ms ---\".format(round((time.time() - start_time)*1000)))"
   ]
  },
  {
   "cell_type": "code",
   "execution_count": 26,
   "id": "f15882ac",
   "metadata": {},
   "outputs": [],
   "source": [
    "import matplotlib.pyplot as plt\n",
    "from scipy.interpolate import make_interp_spline\n",
    "import numpy as np"
   ]
  },
  {
   "cell_type": "code",
   "execution_count": 28,
   "id": "c4b5d65e",
   "metadata": {},
   "outputs": [
    {
     "name": "stdout",
     "output_type": "stream",
     "text": [
      "sort_bubble : 2 32 62 92 \n",
      "sort_choice : 2 32 62 92 \n",
      "sort_put : 2 32 62 92 \n",
      "sort_fast : 2 32 62 92 \n",
      "sort_shell : 2 32 62 92 \n",
      "sort_tournament : 2 32 62 92 \n"
     ]
    },
    {
     "data": {
      "image/png": "[encoded data removed]",
      "text/plain": [
       "<Figure size 640x480 with 1 Axes>"
      ]
     },
     "metadata": {},
     "output_type": "display_data"
    }
   ],
   "source": [
    "# Делает тест функций сортировок\n",
    "def make_test(list_fun, start, stop, step, k_spline=1, big_test=False):\n",
    "    stop = stop  # Конечная позиция\n",
    "    k_spline = k_spline  # Коэффициент плавности графика (Нельзя делать очень большим)\n",
    "    step = step  # Шаг в цикле\n",
    "    for fun in list_fun:\n",
    "        n = start  # Начальная позиция\n",
    "        time_list = []  # Координата y\n",
    "        n_list = []  # Координата x. Размер матрицы\n",
    "        if big_test:\n",
    "            if fun.__name__ == 'sort_put' or fun.__name__ == 'sort_bubble' or fun.__name__ == 'sort_choice':\n",
    "                stop -= stop // 2\n",
    "                k_spline = 2\n",
    "                step = 50\n",
    "        print(fun.__name__, ':', end=' ')\n",
    "        while n <= stop:\n",
    "            print(n, end=' ')\n",
    "            start_time = time.time()\n",
    "            fun(make_matrix(n))\n",
    "            t = (time.time() - start_time) * 1000\n",
    "            time_list.append(t)\n",
    "            n_list.append(n)\n",
    "            n += step\n",
    "        print()\n",
    "        x = np.array(n_list)  # Вспомогательные массивы\n",
    "        y = np.array(time_list)\n",
    "        x_new = np.linspace(x.min(), x.max(), 200)\n",
    "        spl = make_interp_spline(x, y, k=k_spline)  # Вспомогательная функция для плавности графика\n",
    "        y_smooth = spl(x_new)  # Переменная для плавности графика\n",
    "        plt.plot(x_new, y_smooth, label=fun.__name__)  # Строим кривую (label - подпись где какая кривая)\n",
    "        plt.legend(fontsize=6)  # Шрифт легенды\n",
    "        plt.scatter(n_list, time_list)  # Сетка\n",
    "\n",
    "    # Строим график\n",
    "    plt.axis([0, stop + 50, 0, 1000])\n",
    "    plt.grid()\n",
    "    plt.show()\n",
    "\n",
    "\n",
    "\n",
    "list_fun = [\n",
    "    sort_bubble,\n",
    "    sort_choice,\n",
    "    sort_put,\n",
    "    sort_fast,\n",
    "    sort_shell,\n",
    "    sort_tournament\n",
    "]\n",
    "make_test(list_fun,\n",
    "          start=2,\n",
    "          stop=100,\n",
    "          step=30,\n",
    "          k_spline=2,\n",
    "          big_test=False)"
   ]
  },
  {
   "cell_type": "markdown",
   "id": "rental-jerusalem",
   "metadata": {
    "id": "rental-jerusalem"
   },
   "source": [
    "### Вывод\n"
   ]
  },
  {
   "cell_type": "markdown",
   "id": "6bc526ef",
   "metadata": {},
   "source": [
    "В ходе проделанной работы я изучил различные типы сортировок, проанализировал их скорость\n"
   ]
  }
 ],
 "metadata": {
  "colab": {
   "provenance": []
  },
  "kernelspec": {
   "display_name": "Python 3 (ipykernel)",
   "language": "python",
   "name": "python3"
  },
  "language_info": {
   "codemirror_mode": {
    "name": "ipython",
    "version": 3
   },
   "file_extension": ".py",
   "mimetype": "text/x-python",
   "name": "python",
   "nbconvert_exporter": "python",
   "pygments_lexer": "ipython3",
   "version": "3.9.13"
  }
 },
 "nbformat": 4,
 "nbformat_minor": 5
}
