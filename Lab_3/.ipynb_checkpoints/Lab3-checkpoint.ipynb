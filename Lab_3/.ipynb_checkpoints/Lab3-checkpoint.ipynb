{
 "cells": [
  {
   "cell_type": "markdown",
   "metadata": {
    "id": "0z3KlfKDn4_K"
   },
   "source": [
    "# Лабораторная работа 3. \n",
    "# Сетевые алгоритмы. Динамические алгоритмы поиска путей.\n"
   ]
  },
  {
   "cell_type": "markdown",
   "metadata": {
    "id": "96Gi_LEvmSVH"
   },
   "source": [
    "## Выполнил студент группы ФИО ГРУППА\n",
    "***"
   ]
  },
  {
   "cell_type": "markdown",
   "metadata": {
    "id": "GjdIp8aToKIe"
   },
   "source": [
    "### Задание\n",
    "\n",
    "1.  Реализовать алгоритм поиска кратчайшего расстояния между двумя вершинами ориентированного взвешенного графа в соответствии с вариантом. \n",
    "\n",
    "2.  Предусмотреть задание графа в виде матрицы смежности/инцидентности, читаемой из файла, либо графически с помощью пользовательского интерфейса. \n",
    "\n",
    "3.  Разработать графический интерфейс пользователя с визуализацией графа и отображением кратчайшего расстояния между задаваемыми пользователем вершинами.\n",
    "\n",
    "4. По результатам работы проанализировать временную сложность работы заданного алгоритма в зависимости от числа узлов и ребер графа.\n",
    "Данные представить в виде таблицы.\n",
    "\n"
   ]
  },
  {
   "cell_type": "markdown",
   "metadata": {},
   "source": [
    "### Алгоритмы:\n",
    "\n",
    "Алгоритм Флойда-Уоршелла| Алгоритм Дейкстры | Алгоритм Беллмана-Форда | Алгоритм Джонсона| Алгоритм Левита | Алгоритм Йена\n",
    "\n"
   ]
  },
  {
   "cell_type": "markdown",
   "metadata": {
    "id": "Wggfn8l7nG72"
   },
   "source": [
    "### Выполнение:"
   ]
  },
  {
   "cell_type": "code",
   "execution_count": 1,
   "metadata": {},
   "outputs": [],
   "source": [
    "import time\n",
    "import io\n",
    "from pyvis.network import Network\n",
    "import networkx as nx\n",
    "import numpy as np\n",
    "from scipy.interpolate import make_interp_spline\n",
    "import matplotlib.pyplot as plt\n",
    "import copy\n",
    "from Lab_2.deque import Deque\n",
    "\n",
    "def find_min_paths(path, only_path=False):  # Приводит вывод алгоритмов к общему виду\n",
    "    min_path = [len(path) - 1]\n",
    "    while min_path[0] != 0:\n",
    "        min_path.insert(0, path[min_path[0]][0])\n",
    "    if only_path:\n",
    "        return min_path\n",
    "    return [min_path, path[-1][1]]\n",
    "\n",
    "\n",
    "def make_matrix_with_inf(graph):  # Изменяет матрицу смежности - где нет пути, ставит бесконечность\n",
    "    mas = copy.deepcopy(graph)  # Массив с длинами путей, будем менять значения в ходе алгоритма\n",
    "    for i in range(len(mas)):  # Заменяем нули бесконечностью\n",
    "        for j in range(len(mas)):\n",
    "            if (i != j) and (mas[i][j] == 0):\n",
    "                mas[i][j] = float('inf')\n",
    "    return mas"
   ]
  },
  {
   "cell_type": "markdown",
   "metadata": {},
   "source": [
    "##### Алгоритм Флойда-Уоршелла:"
   ]
  },
  {
   "cell_type": "code",
   "execution_count": 2,
   "metadata": {
    "id": "681a95mZnOSa"
   },
   "outputs": [],
   "source": [
    "def floyd_warshell(input_graph):\n",
    "    \"\"\" Фишка: находит общее решение, т. е. расстояния до всех вершнин от всех вершин\"\"\"\n",
    "    graph = copy.deepcopy(input_graph)  # Массив, показывающий расстояния\n",
    "    paths = [[0 for j in range(len(graph))] for i in range(len(graph))]  # Массив, показывающий пути\n",
    "\n",
    "    for k in range(len(graph)):  # Итерациями проходимся по массиву\n",
    "        for i in range(len(graph)):\n",
    "            for j in range(len(graph)):\n",
    "                if graph[i][k] + graph[k][j] < graph[i][j]:\n",
    "                    graph[i][j] = graph[i][k] + graph[k][j]  # Обновление массива длин путей\n",
    "                    paths[i][j] = k  # Обновление массива путей\n",
    "\n",
    "    output_paths = [[0, 0]] * len(graph)  # Для вывода путей из всех точек в 0\n",
    "    for i in range(len(graph)):\n",
    "        output_paths[i] = [paths[0][i], graph[0][i]]\n",
    "    return output_paths"
   ]
  },
  {
   "cell_type": "markdown",
   "metadata": {},
   "source": [
    "##### Алгоритм Дейкстры:"
   ]
  },
  {
   "cell_type": "code",
   "execution_count": 3,
   "metadata": {},
   "outputs": [],
   "source": [
    "def deikstra(input_graph):\n",
    "    \"\"\"Работает быстрее обычного перебора, но не работает с отрицательными весами\"\"\"\n",
    "    graph = copy.deepcopy(input_graph)\n",
    "    paths = [[0, 0]] * len(graph)  # Список точек и путей\n",
    "    process = []  # Список не посещенных точек\n",
    "    done = [0]  # Список посещенных точек\n",
    "    now = 0  # Точка, на которой мы сейчас находимся\n",
    "\n",
    "    # Заполняем path, вставляем бесконечные пути во все точки кроме нулевой\n",
    "    for i in range(1, len(graph)):\n",
    "        paths[i] = [i, float('inf')]  # [прошлая точка; путь из прошлой точки в эту точку]\n",
    "\n",
    "    # Добавляет в process точки, с которыми соединена node точка\n",
    "    def append_nodes(node):\n",
    "        for i in range(len(graph[node])):\n",
    "            # Если есть путь от node до точки и если в done и process нет этой точки\n",
    "            if graph[node][i] != float('inf') and done.count(i) == 0 and process.count(i) == 0:\n",
    "                process.append(i)\n",
    "\n",
    "    append_nodes(0)  # Первая инициализация process: добавляем точки, с которыми соединена точка 0\n",
    "\n",
    "    while process:  # Пока process не опустеет, гоняем наш алгоритм\n",
    "\n",
    "        # Обновляем paths\n",
    "        for i in process:  # Проходимся по всем точкам в process\n",
    "            if graph[now][i] != float('inf'):  # Если есть путь из now до этой точки\n",
    "                if paths[now][1]+graph[now][i] < paths[i][1]:  # Если путь из now к этой точке короче чем было\n",
    "                    paths[i][1] = paths[now][1] + graph[now][i]  # То обновляем\n",
    "                    paths[i][0] = now\n",
    "\n",
    "        min_path = paths[process[0]][1]  # Минимальный путь от now до следующей точки\n",
    "        min_node = process[0]  # Точка, до которой идет минимальный путь\n",
    "\n",
    "        # Проходимся по точкам в process и находим точку с минимальным путем до нее\n",
    "        for i in process:\n",
    "            if paths[i][1] < min_path:\n",
    "                min_path = paths[i][1]\n",
    "                min_node = i\n",
    "\n",
    "        done.append(min_node)  # Добавляем минимальную точку в список посещенных точек\n",
    "        process.remove(min_node)  # Удаляем минимальную точку из process\n",
    "        append_nodes(min_node)  # Обновляем список process\n",
    "        now = min_node  # Переходим в новую точку\n",
    "\n",
    "    return paths"
   ]
  },
  {
   "cell_type": "markdown",
   "metadata": {},
   "source": [
    "##### Алгоритм Беллмана-Форда:"
   ]
  },
  {
   "cell_type": "code",
   "execution_count": 4,
   "metadata": {},
   "outputs": [],
   "source": [
    "def bellman_ford(input_graph):\n",
    "    \"\"\"Фишка: может работать с отрицательными весами\"\"\"\n",
    "    graph = copy.deepcopy(input_graph)\n",
    "    paths = [[0, float('inf')]] * len(graph)  # [предыдущая точка, расстояние от предыдущей точки до этой]\n",
    "    paths[0] = [0, 0]\n",
    "\n",
    "    for k in range(1, len(graph)):\n",
    "        for i in range(len(graph)):\n",
    "            for j in range(len(graph)):\n",
    "                if paths[j][1] > paths[i][1] + graph[i][j]:\n",
    "                    paths[j] = [i, paths[i][1] + graph[i][j]]\n",
    "                if paths[j][1] > paths[i][1] + graph[i][j]:\n",
    "                    print(\"Ошибка\")\n",
    "                    break\n",
    "\n",
    "    return paths"
   ]
  },
  {
   "cell_type": "markdown",
   "metadata": {},
   "source": [
    "##### Алгоритм Джонсона:"
   ]
  },
  {
   "cell_type": "code",
   "execution_count": 5,
   "metadata": {},
   "outputs": [],
   "source": [
    "def johnson(input_graph):\n",
    "    \"\"\" Убирает из графа отрицательные веса, а затем запускает алгоритм Дейкстры\"\"\"\n",
    "    graph = copy.deepcopy(input_graph)\n",
    "\n",
    "    # Добавляем дополнительную точку, соединенную с другими точками путем 0\n",
    "    graph.insert(0, [0] * (len(input_graph) + 1))\n",
    "    for i in range(1, len(graph)):  # Добавляем в каждую точку столбец с бесконечным путем\n",
    "        graph[i].insert(0, float('inf'))\n",
    "\n",
    "    paths = bellman_ford(graph)  # Ищем все пути от дополнительной точки до всех остальных точек\n",
    "    paths.pop(0)  # Удаляем из списка путей нашу точку\n",
    "\n",
    "    graph = make_matrix_with_inf(input_graph)  # Пересоздадим graph, чтобы избавиться от дополнительной точки\n",
    "\n",
    "    for i in range(len(graph)):\n",
    "        for j in range(len(graph)):\n",
    "            graph[i][j] = graph[i][j] + paths[i][1] - paths[j][1]  # Обновим пути в соответствии с формулой\n",
    "\n",
    "    return deikstra(graph)  # Запускаем дейкстру с массивом без отрицательных путей"
   ]
  },
  {
   "cell_type": "markdown",
   "metadata": {},
   "source": [
    "##### Алгоритм Левита:"
   ]
  },
  {
   "cell_type": "code",
   "execution_count": 6,
   "metadata": {},
   "outputs": [],
   "source": [
    "def levite(graph):\n",
    "    \"\"\"Фишка: работает с отрицательными весами, реализуя собственный алгоритм (без Дейкстры)\"\"\"\n",
    "    dist = [float('inf')]*len(graph)  # Хранит расстояния\n",
    "    dist[0] = 0\n",
    "    paths = [0]*len(graph)  # Хранит маршруты\n",
    "    m_0 = []  # Вершины, расстояние до которых уже вычислено (но, возможно, не окончательно)\n",
    "    m_1 = Deque()  # Вершины, расстояние до которых вычисляется\n",
    "    m_1.add_left(0)\n",
    "    m_2 = [i for i in range(1, len(graph))]  # Вершины, расстояние до которых ещё не вычислено\n",
    "\n",
    "    while not m_1.is_empty():  # Пока есть вычисляемые точки\n",
    "        v = m_1.remove_left()  # Выбираем первую в очереди точку из списка вычисляемых точек\n",
    "        m_0.append(v)\n",
    "\n",
    "        for i in range(len(graph)):  # Проходимся по вершинам графа\n",
    "            if graph[v][i] != float('inf') and v != i:  # Находим вершины, с которыми соединена v\n",
    "                t, l = i, graph[v][i]  # t - вершина, с которой соединена v, l - путь до нее\n",
    "                # Рассмотрим три случая\n",
    "                if t in m_2:  # Если t еще не вычислена\n",
    "                    m_1.add_right(t)  # то добавляем в очередь вычисляемых\n",
    "                    m_2.remove(t)\n",
    "                    dist[t] = dist[v] + l  # Вычисляем путь\n",
    "                    paths[t] = v\n",
    "                elif m_1.has(t):  # Если t уже в очереди вычисляемых\n",
    "                    if dist[t] > dist[v] + l:  # То при необходимости обновляем путь до нее\n",
    "                        dist[t] = dist[v] + l\n",
    "                        paths[t] = v\n",
    "                elif t in m_0 and dist[t]>dist[v]+l:  # Если t в списке уже вычисленных, но есть более оптимальный путь\n",
    "                    dist[t] = dist[v]+l  # Обновляем путь у t\n",
    "                    paths[t] = v\n",
    "                    m_1.add_left(t)  # Добавляем ее в список выполняемых точек\n",
    "                    m_0.remove(t)\n",
    "\n",
    "    new_paths = []\n",
    "    for i in range(len(dist)):  # Приводим результат к стандарту\n",
    "        new_paths.append([paths[i], dist[i]])\n",
    "    return new_paths"
   ]
  },
  {
   "cell_type": "markdown",
   "metadata": {},
   "source": [
    "##### Алгоритм Йена:"
   ]
  },
  {
   "cell_type": "code",
   "execution_count": null,
   "metadata": {},
   "outputs": [],
   "source": []
  },
  {
   "cell_type": "markdown",
   "metadata": {},
   "source": [
    "#### Визуализация:"
   ]
  },
  {
   "cell_type": "code",
   "execution_count": 7,
   "metadata": {},
   "outputs": [],
   "source": [
    "def visualize_network(graph, paths):\n",
    "    g = nx.DiGraph()\n",
    "    nt = Network(notebook=True, directed=True, cdn_resources='in_line')\n",
    "    min_path = find_min_paths(paths, only_path=True)\n",
    "\n",
    "    # Заполняем граф\n",
    "    for i in range(len(graph)):\n",
    "        g.add_node(i, label=f\"Node {i}\")\n",
    "    for i in range(len(graph)):\n",
    "        for j in range(len(graph)):\n",
    "            if graph[i][j] != 0 and graph[i][j] != float('inf'):\n",
    "                g.add_edge(i, j)\n",
    "\n",
    "    # Обрисовываем путь\n",
    "    for i in range(len(min_path)-1):\n",
    "        g[min_path[i]][min_path[i+1]]['color'] = \"red\"\n",
    "\n",
    "    nt.from_nx(g)  # Передаем наш граф для визуализации\n",
    "    nt.show_buttons(filter_=['physics'])  # Отключается гравитация-физика\n",
    "    nt.prep_notebook()\n",
    "    nt.show(\"basic.html\")\n",
    "    #nt.write_html(\"basic.html\", open_browser=False)"
   ]
  },
  {
   "cell_type": "markdown",
   "metadata": {},
   "source": [
    "#### Тест скорости (графики):"
   ]
  },
  {
   "cell_type": "code",
   "execution_count": 8,
   "metadata": {},
   "outputs": [],
   "source": [
    "def make_test(list_algorithms, list_graphs):\n",
    "    for algorithm in list_algorithms:  # Проходимся по всем алгоритмам поиска пути\n",
    "        len_graph, len_time = [], []\n",
    "        for graph in list_graphs:  # Для каждого алгоритма вычисляем скорость для всех графов из списка\n",
    "            start = time.time()\n",
    "            algorithm(graph)\n",
    "            len_time.append((time.time() - start) * 1000)\n",
    "            len_graph.append(len(graph))\n",
    "\n",
    "        x = np.array(len_graph)  # Вспомогательные массивы\n",
    "        y = np.array(len_time)\n",
    "        x_new = np.linspace(x.min(), x.max(), 200)\n",
    "        spl = make_interp_spline(x, y, k=2)  # Вспомогательная функция для плавности графика\n",
    "        y_smooth = spl(x_new)  # Переменная для плавности графика\n",
    "        plt.plot(x_new, y_smooth, label=algorithm.__name__)  # Строим кривую\n",
    "        plt.legend(fontsize=8)  # Шрифт легенды\n",
    "        plt.scatter(len_graph, len_time)  # Сетка\n",
    "\n",
    "    # Строим график\n",
    "    plt.axis([0, 40, 0, 120])\n",
    "    plt.grid()\n",
    "    plt.show()"
   ]
  },
  {
   "cell_type": "markdown",
   "metadata": {},
   "source": [
    "#### Чтение графов из файла:"
   ]
  },
  {
   "cell_type": "code",
   "execution_count": 9,
   "metadata": {},
   "outputs": [],
   "source": [
    "def get_graph(name_file):\n",
    "    file = io.open(name_file, encoding='utf-8')\n",
    "    graphs_string = file.read().split('\\n\\n')\n",
    "    graphs = []\n",
    "    for graph_string in graphs_string:\n",
    "        graph = []\n",
    "        string_of_graph = []\n",
    "        number = ''\n",
    "        for i in range(1, len(graph_string)):\n",
    "            if graph_string[i].isdigit():\n",
    "                number += graph_string[i]\n",
    "            elif number != '':\n",
    "                string_of_graph.append(int(number))\n",
    "                number = ''\n",
    "                if graph_string[i] == ']':\n",
    "                    graph.append(string_of_graph)\n",
    "                    string_of_graph = []\n",
    "        graphs.append(make_matrix_with_inf(graph))\n",
    "\n",
    "\n",
    "    '''for i in range(len(graphs)):\n",
    "        print('\\n')\n",
    "        for j in range(len(graphs[i])):\n",
    "            print(graphs[i][j])'''\n",
    "\n",
    "    return graphs"
   ]
  },
  {
   "cell_type": "markdown",
   "metadata": {},
   "source": [
    "#### Запуск:"
   ]
  },
  {
   "cell_type": "code",
   "execution_count": 10,
   "metadata": {},
   "outputs": [
    {
     "name": "stdout",
     "output_type": "stream",
     "text": [
      "basic.html\n"
     ]
    },
    {
     "ename": "UnicodeEncodeError",
     "evalue": "'charmap' codec can't encode characters in position 263607-263621: character maps to <undefined>",
     "output_type": "error",
     "traceback": [
      "\u001b[1;31m---------------------------------------------------------------------------\u001b[0m",
      "\u001b[1;31mUnicodeEncodeError\u001b[0m                        Traceback (most recent call last)",
      "Cell \u001b[1;32mIn[10], line 11\u001b[0m\n\u001b[0;32m      9\u001b[0m graph \u001b[38;5;241m=\u001b[39m get_graph(\u001b[38;5;124m'\u001b[39m\u001b[38;5;124mgraphs.txt\u001b[39m\u001b[38;5;124m'\u001b[39m)[\u001b[38;5;241m5\u001b[39m]\n\u001b[0;32m     10\u001b[0m make_matrix_with_inf(graph)\n\u001b[1;32m---> 11\u001b[0m \u001b[43mvisualize_network\u001b[49m\u001b[43m(\u001b[49m\u001b[43mgraph\u001b[49m\u001b[43m,\u001b[49m\u001b[43m \u001b[49m\u001b[43mdeikstra\u001b[49m\u001b[43m(\u001b[49m\u001b[43mgraph\u001b[49m\u001b[43m)\u001b[49m\u001b[43m)\u001b[49m\n",
      "Cell \u001b[1;32mIn[7], line 21\u001b[0m, in \u001b[0;36mvisualize_network\u001b[1;34m(graph, paths)\u001b[0m\n\u001b[0;32m     19\u001b[0m nt\u001b[38;5;241m.\u001b[39mshow_buttons(filter_\u001b[38;5;241m=\u001b[39m[\u001b[38;5;124m'\u001b[39m\u001b[38;5;124mphysics\u001b[39m\u001b[38;5;124m'\u001b[39m])  \u001b[38;5;66;03m# Отключается гравитация-физика\u001b[39;00m\n\u001b[0;32m     20\u001b[0m nt\u001b[38;5;241m.\u001b[39mprep_notebook()\n\u001b[1;32m---> 21\u001b[0m \u001b[43mnt\u001b[49m\u001b[38;5;241;43m.\u001b[39;49m\u001b[43mshow\u001b[49m\u001b[43m(\u001b[49m\u001b[38;5;124;43m\"\u001b[39;49m\u001b[38;5;124;43mbasic.html\u001b[39;49m\u001b[38;5;124;43m\"\u001b[39;49m\u001b[43m)\u001b[49m\n",
      "File \u001b[1;32mD:\\PycharmProjects\\SiAOD\\venv\\lib\\site-packages\\pyvis\\network.py:546\u001b[0m, in \u001b[0;36mNetwork.show\u001b[1;34m(self, name, local, notebook)\u001b[0m\n\u001b[0;32m    544\u001b[0m \u001b[38;5;28mprint\u001b[39m(name)\n\u001b[0;32m    545\u001b[0m \u001b[38;5;28;01mif\u001b[39;00m notebook:\n\u001b[1;32m--> 546\u001b[0m     \u001b[38;5;28;43mself\u001b[39;49m\u001b[38;5;241;43m.\u001b[39;49m\u001b[43mwrite_html\u001b[49m\u001b[43m(\u001b[49m\u001b[43mname\u001b[49m\u001b[43m,\u001b[49m\u001b[43m \u001b[49m\u001b[43mopen_browser\u001b[49m\u001b[38;5;241;43m=\u001b[39;49m\u001b[38;5;28;43;01mFalse\u001b[39;49;00m\u001b[43m,\u001b[49m\u001b[43mnotebook\u001b[49m\u001b[38;5;241;43m=\u001b[39;49m\u001b[38;5;28;43;01mTrue\u001b[39;49;00m\u001b[43m)\u001b[49m\n\u001b[0;32m    547\u001b[0m \u001b[38;5;28;01melse\u001b[39;00m:\n\u001b[0;32m    548\u001b[0m     \u001b[38;5;28mself\u001b[39m\u001b[38;5;241m.\u001b[39mwrite_html(name, open_browser\u001b[38;5;241m=\u001b[39m\u001b[38;5;28;01mTrue\u001b[39;00m)\n",
      "File \u001b[1;32mD:\\PycharmProjects\\SiAOD\\venv\\lib\\site-packages\\pyvis\\network.py:530\u001b[0m, in \u001b[0;36mNetwork.write_html\u001b[1;34m(self, name, local, notebook, open_browser)\u001b[0m\n\u001b[0;32m    528\u001b[0m \u001b[38;5;28;01melif\u001b[39;00m \u001b[38;5;28mself\u001b[39m\u001b[38;5;241m.\u001b[39mcdn_resources \u001b[38;5;241m==\u001b[39m \u001b[38;5;124m\"\u001b[39m\u001b[38;5;124min_line\u001b[39m\u001b[38;5;124m\"\u001b[39m \u001b[38;5;129;01mor\u001b[39;00m \u001b[38;5;28mself\u001b[39m\u001b[38;5;241m.\u001b[39mcdn_resources \u001b[38;5;241m==\u001b[39m \u001b[38;5;124m\"\u001b[39m\u001b[38;5;124mremote\u001b[39m\u001b[38;5;124m\"\u001b[39m:\n\u001b[0;32m    529\u001b[0m     \u001b[38;5;28;01mwith\u001b[39;00m \u001b[38;5;28mopen\u001b[39m(getcwd_name, \u001b[38;5;124m\"\u001b[39m\u001b[38;5;124mw+\u001b[39m\u001b[38;5;124m\"\u001b[39m) \u001b[38;5;28;01mas\u001b[39;00m out:\n\u001b[1;32m--> 530\u001b[0m         \u001b[43mout\u001b[49m\u001b[38;5;241;43m.\u001b[39;49m\u001b[43mwrite\u001b[49m\u001b[43m(\u001b[49m\u001b[38;5;28;43mself\u001b[39;49m\u001b[38;5;241;43m.\u001b[39;49m\u001b[43mhtml\u001b[49m\u001b[43m)\u001b[49m\n\u001b[0;32m    531\u001b[0m \u001b[38;5;28;01melse\u001b[39;00m:\n\u001b[0;32m    532\u001b[0m     \u001b[38;5;28;01massert\u001b[39;00m \u001b[38;5;124m\"\u001b[39m\u001b[38;5;124mcdn_resources is not in [\u001b[39m\u001b[38;5;124m'\u001b[39m\u001b[38;5;124min_line\u001b[39m\u001b[38;5;124m'\u001b[39m\u001b[38;5;124m,\u001b[39m\u001b[38;5;124m'\u001b[39m\u001b[38;5;124mremote\u001b[39m\u001b[38;5;124m'\u001b[39m\u001b[38;5;124m,\u001b[39m\u001b[38;5;124m'\u001b[39m\u001b[38;5;124mlocal\u001b[39m\u001b[38;5;124m'\u001b[39m\u001b[38;5;124m].\u001b[39m\u001b[38;5;124m\"\u001b[39m\n",
      "File \u001b[1;32m~\\AppData\\Local\\Programs\\Python\\Python39\\lib\\encodings\\cp1251.py:19\u001b[0m, in \u001b[0;36mIncrementalEncoder.encode\u001b[1;34m(self, input, final)\u001b[0m\n\u001b[0;32m     18\u001b[0m \u001b[38;5;28;01mdef\u001b[39;00m \u001b[38;5;21mencode\u001b[39m(\u001b[38;5;28mself\u001b[39m, \u001b[38;5;28minput\u001b[39m, final\u001b[38;5;241m=\u001b[39m\u001b[38;5;28;01mFalse\u001b[39;00m):\n\u001b[1;32m---> 19\u001b[0m     \u001b[38;5;28;01mreturn\u001b[39;00m \u001b[43mcodecs\u001b[49m\u001b[38;5;241;43m.\u001b[39;49m\u001b[43mcharmap_encode\u001b[49m\u001b[43m(\u001b[49m\u001b[38;5;28;43minput\u001b[39;49m\u001b[43m,\u001b[49m\u001b[38;5;28;43mself\u001b[39;49m\u001b[38;5;241;43m.\u001b[39;49m\u001b[43merrors\u001b[49m\u001b[43m,\u001b[49m\u001b[43mencoding_table\u001b[49m\u001b[43m)\u001b[49m[\u001b[38;5;241m0\u001b[39m]\n",
      "\u001b[1;31mUnicodeEncodeError\u001b[0m: 'charmap' codec can't encode characters in position 263607-263621: character maps to <undefined>"
     ]
    }
   ],
   "source": [
    "lm = [\n",
    "        deikstra,\n",
    "        floyd_warshell,\n",
    "        bellman_ford,\n",
    "        johnson,\n",
    "        levite\n",
    "    ]\n",
    "#make_test(lm, get_graph('graphs.txt'))\n",
    "graph = get_graph('graphs.txt')[5]\n",
    "make_matrix_with_inf(graph)\n",
    "visualize_network(graph, deikstra(graph))"
   ]
  },
  {
   "cell_type": "markdown",
   "metadata": {
    "id": "diOb-K7LnO5a"
   },
   "source": [
    "### Вывод"
   ]
  }
 ],
 "metadata": {
  "colab": {
   "provenance": []
  },
  "kernelspec": {
   "display_name": "Python 3 (ipykernel)",
   "language": "python",
   "name": "python3"
  },
  "language_info": {
   "codemirror_mode": {
    "name": "ipython",
    "version": 3
   },
   "file_extension": ".py",
   "mimetype": "text/x-python",
   "name": "python",
   "nbconvert_exporter": "python",
   "pygments_lexer": "ipython3",
   "version": "3.9.13"
  }
 },
 "nbformat": 4,
 "nbformat_minor": 1
}
