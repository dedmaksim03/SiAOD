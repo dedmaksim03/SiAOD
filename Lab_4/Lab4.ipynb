{
 "cells": [
  {
   "cell_type": "markdown",
   "source": [
    "# Лабораторная работа 4.\n",
    "# Методы поиска.\n"
   ],
   "metadata": {
    "collapsed": false
   }
  },
  {
   "cell_type": "markdown",
   "source": [
    "## Выполнил студент группы БВТ2101 Горский Максим Сергеевич\n",
    "***"
   ],
   "metadata": {
    "collapsed": false
   }
  },
  {
   "cell_type": "markdown",
   "source": [
    "### Задание\n",
    "Реализовать методы поиска в соответствии с заданием. Организовать генерацию начального набора случайных данных. Для всех вариантов добавить реализацию добавления, поиска и удаления элементов. Оценить время работы каждого алгоритма поиска и сравнить его со временем работы стандартной функции поиска, используемой в выбранном языке программирования.\n",
    "\n",
    "1.  Бинарный поиск, бинарное дерево, Фибоначчиев, интерполяционный\n",
    "\n",
    "2.  Простое хэширование, рехэширование с помощью псевдослучайных чисел, метод цепочек\n",
    "\n",
    "3.  Расставить на стандартной 64-клеточной шахматной доске 8 ферзей так, чтобы ни один из них не находился под боем другого». Подразумевается, что ферзь бьёт все клетки, расположенные по вертикалям, горизонталям и обеим диагоналям. Написать программу, которая находит хотя бы один способ решения задач.\n",
    "\n",
    "\n"
   ],
   "metadata": {
    "collapsed": false
   }
  },
  {
   "cell_type": "markdown",
   "source": [
    "### Выполнение:"
   ],
   "metadata": {
    "collapsed": false
   }
  },
  {
   "cell_type": "markdown",
   "source": [
    "#### Задание 1:"
   ],
   "metadata": {
    "collapsed": false
   }
  },
  {
   "cell_type": "markdown",
   "source": [
    "###### Python поиск:"
   ],
   "metadata": {
    "collapsed": false
   }
  },
  {
   "cell_type": "code",
   "execution_count": 11,
   "outputs": [],
   "source": [
    "def python_find(mas: list, number):\n",
    "    return mas.index(number)"
   ],
   "metadata": {
    "collapsed": false
   }
  },
  {
   "cell_type": "markdown",
   "source": [
    "###### Бинарный поиск:\n"
   ],
   "metadata": {
    "collapsed": false
   }
  },
  {
   "cell_type": "code",
   "execution_count": 12,
   "outputs": [],
   "source": [
    "def binary_find(mas, number):\n",
    "    left, right = 0, len(mas)-1  # Указатели границ, внутри которых мы смотрим средний элемент\n",
    "    while right >= left:\n",
    "        middle = left + (right-left) // 2  # Находим середину в промежутке между left и right\n",
    "        if mas[middle] == number:\n",
    "            return middle\n",
    "        elif mas[middle] < number:\n",
    "            if left != middle:  # Добавочное условие для нахождения крайних элементов\n",
    "                left = middle\n",
    "            else:\n",
    "                left += 1\n",
    "        elif mas[middle] > number:\n",
    "            if right != middle:\n",
    "                right = middle\n",
    "            else:\n",
    "                right -= 1\n",
    "    return None"
   ],
   "metadata": {
    "collapsed": false
   }
  },
  {
   "cell_type": "markdown",
   "source": [
    "###### Бинарное дерево:\n"
   ],
   "metadata": {
    "collapsed": false
   }
  },
  {
   "cell_type": "code",
   "execution_count": 13,
   "outputs": [],
   "source": [
    "class BinarySearchTree:\n",
    "    \"\"\"\n",
    "    Отвечает за организацию дерева в целом: хранит корень, осуществляет вставку новых узлов\n",
    "    \"\"\"\n",
    "\n",
    "    def __init__(self):\n",
    "        self.root = None\n",
    "        self.size = 0\n",
    "\n",
    "    def length(self):\n",
    "        return self.size\n",
    "\n",
    "    def __len__(self):\n",
    "        return self.size\n",
    "\n",
    "    def __setitem__(self, k, v):\n",
    "        self.put(k, v)\n",
    "\n",
    "    def put(self, key, val=None):\n",
    "        if self.root:\n",
    "            self._put(key, self.root, val)\n",
    "        else:\n",
    "            self.root = TreeNode(key, val)\n",
    "        self.size = self.size + 1\n",
    "\n",
    "    def _put(self, key, current_node, val=None):\n",
    "        if key < current_node.key:\n",
    "            if current_node.has_left_child():\n",
    "                self._put(key, current_node.leftChild, val)\n",
    "            else:\n",
    "                current_node.leftChild = TreeNode(key, val, parent=current_node)\n",
    "        else:\n",
    "            if current_node.has_right_child():\n",
    "                self._put(key, current_node.rightChild, val)\n",
    "            else:\n",
    "                current_node.rightChild = TreeNode(key, val, parent=current_node)\n",
    "\n",
    "    def get(self, key):\n",
    "        if self.root:\n",
    "            res = self._get(key, self.root)\n",
    "            if res:\n",
    "                return res.payload\n",
    "            else:\n",
    "                return None\n",
    "        else:\n",
    "            return None\n",
    "\n",
    "    def _get(self, key, currentNode):\n",
    "        if not currentNode:\n",
    "            return None\n",
    "        elif currentNode.key == key:\n",
    "            return currentNode\n",
    "        elif key < currentNode.key:\n",
    "            return self._get(key, currentNode.leftChild)\n",
    "        else:\n",
    "            return self._get(key, currentNode.rightChild)\n",
    "\n",
    "    def __getitem__(self, key):\n",
    "        return self.get(key)\n",
    "\n",
    "    def __contains__(self, key):\n",
    "        if self._get(key, self.root):\n",
    "            return True\n",
    "        else:\n",
    "            return False\n",
    "\n",
    "    def delete(self, key):\n",
    "        if self.size > 1:\n",
    "            node_to_remove = self._get(key, self.root)\n",
    "            if node_to_remove:\n",
    "                self.remove(node_to_remove)\n",
    "                self.size = self.size - 1\n",
    "            else:\n",
    "                raise KeyError('Error, key not in tree')\n",
    "        elif self.size == 1 and self.root.key == key:\n",
    "            self.root = None\n",
    "            self.size = self.size - 1\n",
    "        else:\n",
    "            raise KeyError('Error, key not in tree')\n",
    "\n",
    "    def __delitem__(self, key):\n",
    "        self.delete(key)\n",
    "\n",
    "    def remove(self, currentNode):\n",
    "        if currentNode.is_leaf():  # Если нет потомков\n",
    "            if currentNode == currentNode.parent.leftChild:\n",
    "                currentNode.parent.leftChild = None\n",
    "            else:\n",
    "                currentNode.parent.rightChild = None\n",
    "        elif currentNode.has_both_children():  # Если оба потомка\n",
    "            succ = currentNode.find_successor()\n",
    "            succ.splice_out()\n",
    "            currentNode.key = succ.key\n",
    "            currentNode.payload = succ.payload\n",
    "\n",
    "        else:  # Если один потомок\n",
    "            if currentNode.has_left_child():\n",
    "                if currentNode.is_left_child():\n",
    "                    currentNode.leftChild.parent = currentNode.parent\n",
    "                    currentNode.parent.leftChild = currentNode.leftChild\n",
    "                elif currentNode.is_right_child():\n",
    "                    currentNode.leftChild.parent = currentNode.parent\n",
    "                    currentNode.parent.rightChild = currentNode.leftChild\n",
    "                else:\n",
    "                    currentNode.replace_node_data(currentNode.leftChild.key,\n",
    "                                                  currentNode.leftChild.payload,\n",
    "                                                  currentNode.leftChild.leftChild,\n",
    "                                                  currentNode.leftChild.rightChild)\n",
    "            else:\n",
    "                if currentNode.is_left_child():\n",
    "                    currentNode.rightChild.parent = currentNode.parent\n",
    "                    currentNode.parent.leftChild = currentNode.rightChild\n",
    "                elif currentNode.is_right_child():\n",
    "                    currentNode.rightChild.parent = currentNode.parent\n",
    "                    currentNode.parent.rightChild = currentNode.rightChild\n",
    "                else:\n",
    "                    currentNode.replace_node_data(currentNode.rightChild.key,\n",
    "                                                  currentNode.rightChild.payload,\n",
    "                                                  currentNode.rightChild.leftChild,\n",
    "                                                  currentNode.rightChild.rightChild)\n",
    "\n",
    "\n",
    "def __delitem__(self, key):\n",
    "    self.delete(key)\n",
    "\n",
    "\n",
    "class TreeNode:\n",
    "    \"\"\"\n",
    "    Отвечает за конкретный узел: может быть инициализирован, хранит ссылки на предков и потомков\n",
    "    \"\"\"\n",
    "\n",
    "    def __init__(self, key, val=None, left=None, right=None, parent=None):\n",
    "        self.key = key\n",
    "        self.payload = val\n",
    "        self.leftChild = left\n",
    "        self.rightChild = right\n",
    "        self.parent = parent\n",
    "\n",
    "    def has_left_child(self):\n",
    "        return self.leftChild\n",
    "\n",
    "    def has_right_child(self):\n",
    "        return self.rightChild\n",
    "\n",
    "    def is_left_child(self):\n",
    "        return self.parent and self.parent.leftChild == self\n",
    "\n",
    "    def is_right_child(self):\n",
    "        return self.parent and self.parent.rightChild == self\n",
    "\n",
    "    def is_root(self):\n",
    "        return not self.parent\n",
    "\n",
    "    def is_leaf(self):\n",
    "        return not (self.rightChild or self.leftChild)\n",
    "\n",
    "    def has_any_children(self):\n",
    "        return self.rightChild or self.leftChild\n",
    "\n",
    "    def has_both_children(self):\n",
    "        return self.rightChild and self.leftChild\n",
    "\n",
    "    def replace_node_data(self, key, value, lc, rc):\n",
    "        self.key = key\n",
    "        self.payload = value\n",
    "        self.leftChild = lc\n",
    "        self.rightChild = rc\n",
    "        if self.has_left_child():\n",
    "            self.leftChild.parent = self\n",
    "        if self.has_right_child():\n",
    "            self.rightChild.parent = self\n",
    "\n",
    "    def find_successor(self):  # Возвращает потомка данного узла\n",
    "        succ = None\n",
    "        if self.has_right_child():\n",
    "            succ = self.rightChild.find_min()\n",
    "        else:\n",
    "            if self.parent:\n",
    "                if self.is_left_child():\n",
    "                    succ = self.parent\n",
    "                else:\n",
    "                    # Если узел - правый потомок своего родителя и сам правого потомка не имеет,\n",
    "                    # то его преемником будет преемник родителя (исключая сам этот узел).\n",
    "                    self.parent.rightChild = None\n",
    "                    succ = self.parent.find_successor()\n",
    "                    self.parent.rightChild = self\n",
    "        return succ\n",
    "\n",
    "    def find_min(self):  # Находит минимальный элемент после себя (самый левый элемент в дереве)\n",
    "        current = self\n",
    "        while current.has_left_child():\n",
    "            current = current.leftChild\n",
    "        return current\n",
    "\n",
    "    def splice_out(self):  # Удаление узла (более точечное, чем delete)\n",
    "        if self.is_leaf():\n",
    "            if self.is_left_child():\n",
    "                self.parent.leftChild = None\n",
    "            else:\n",
    "                self.parent.rightChild = None\n",
    "        elif self.has_any_children():\n",
    "            if self.has_left_child():\n",
    "                if self.is_left_child():\n",
    "                    self.parent.leftChild = self.leftChild\n",
    "                else:\n",
    "                    self.parent.rightChild = self.leftChild\n",
    "                self.leftChild.parent = self.parent\n",
    "            else:\n",
    "                if self.is_left_child():\n",
    "                    self.parent.leftChild = self.rightChild\n",
    "                else:\n",
    "                    self.parent.rightChild = self.rightChild\n",
    "                self.rightChild.parent = self.parent"
   ],
   "metadata": {
    "collapsed": false
   }
  },
  {
   "cell_type": "markdown",
   "source": [
    "###### Фибоначчиев поиск:"
   ],
   "metadata": {
    "collapsed": false
   }
  },
  {
   "cell_type": "code",
   "execution_count": 14,
   "outputs": [],
   "source": [
    "def fibonacci(n):\n",
    "    fib_seq = [1, 1]\n",
    "    while len(fib_seq) < n:\n",
    "        fib_seq.append(fib_seq[-1] + fib_seq[-2])\n",
    "    return fib_seq\n",
    "\n",
    "\n",
    "def fibonacci_find(mas, number, fib_seq):\n",
    "    fib_m = fib_seq[-1]  # Крайний правый член Фибоначчи\n",
    "    fib_m_1 = fib_seq[-2]  # Первый влево\n",
    "    fib_m_2 = fib_seq[-3]  # Второй влево\n",
    "    index = -1  # Левый край блока, где мы ищем number\n",
    "    while fib_m > 1:\n",
    "        i = min(index + fib_m_2, (len(mas) - 1))  # Находим предполагаемый индекс\n",
    "        if mas[i] < number:  # Если элемент по нему меньше чем number\n",
    "            fib_m = fib_m_1  # То смещаем крайний правый член Фибоначчи на 1 влево\n",
    "            fib_m_1 = fib_m_2\n",
    "            fib_m_2 = fib_m - fib_m_1\n",
    "            index = i  # Перемещаем индекс (По факту двигаем его вправо)\n",
    "        elif mas[i] > number:  # Если элемент больше чем number\n",
    "            fib_m = fib_m_2  # То сдвигаем числа Фибоначчи вправо на 2 (По факту двигаем правую границу)\n",
    "            fib_m_1 = fib_m_1 - fib_m_2\n",
    "            fib_m_2 = fib_m - fib_m_1\n",
    "        else:\n",
    "            return i\n",
    "    if fib_m_1 and index < (len(mas) - 1) and mas[index + 1] == number:\n",
    "        return index + 1\n",
    "    return None"
   ],
   "metadata": {
    "collapsed": false
   }
  },
  {
   "cell_type": "markdown",
   "source": [
    "###### Интерполяционный поиск:"
   ],
   "metadata": {
    "collapsed": false
   }
  },
  {
   "cell_type": "code",
   "execution_count": 15,
   "outputs": [],
   "source": [
    "def interpolating_find(mas, number):\n",
    "    left, right = 0, len(mas) - 1  # Указатели границ, внутри которых мы смотрим средний элемент\n",
    "    while mas[left] < number < mas[right]:\n",
    "        middle = left + (number - mas[left])*(right-left)//(mas[right]-mas[left])  # Находим новую точку сравнения\n",
    "        if mas[middle] == number:\n",
    "            return middle\n",
    "        elif mas[middle] < number:\n",
    "            left = middle + 1\n",
    "        elif mas[middle] > number:\n",
    "            right = middle - 1\n",
    "    if mas[left] == number:\n",
    "        return left\n",
    "    elif mas[right] == number:\n",
    "        return right\n",
    "    return None"
   ],
   "metadata": {
    "collapsed": false
   }
  },
  {
   "cell_type": "markdown",
   "source": [
    "#### Задание 2:"
   ],
   "metadata": {
    "collapsed": false
   }
  },
  {
   "cell_type": "markdown",
   "source": [
    "###### Простое хэширование:"
   ],
   "metadata": {
    "collapsed": false
   }
  },
  {
   "cell_type": "code",
   "execution_count": 16,
   "outputs": [],
   "source": [
    "class MapSimpleHash:\n",
    "\n",
    "    def __init__(self, length):\n",
    "        self.length = length\n",
    "        self.map = [Slot() for _ in range(length)]\n",
    "\n",
    "    def hash_function(self, val):\n",
    "        return val % self.length\n",
    "\n",
    "    def put(self, key, val):\n",
    "        index = self.hash_function(val)\n",
    "        self.map[index] = Slot(key, val)\n",
    "\n",
    "    def get(self, val):\n",
    "        index = self.hash_function(val)\n",
    "        return self.map[index].get_key()\n",
    "\n",
    "\n",
    "class Slot:\n",
    "\n",
    "    def __init__(self, key=None, val=None):\n",
    "        self.val = val  # Значение числа\n",
    "        self.key = key  # Номер в изначальной последовательности\n",
    "\n",
    "    def get_key(self):\n",
    "        return self.key\n",
    "\n",
    "    def get_val(self):\n",
    "        return self.val"
   ],
   "metadata": {
    "collapsed": false
   }
  },
  {
   "cell_type": "markdown",
   "source": [
    "###### Рехэширование с псевдослучайными числами:"
   ],
   "metadata": {
    "collapsed": false
   }
  },
  {
   "cell_type": "code",
   "execution_count": 17,
   "outputs": [],
   "source": [
    "class MapReHash:\n",
    "\n",
    "    def __init__(self, length):\n",
    "        for i in range(1, 10):\n",
    "            if length <= 2**i:\n",
    "                self.length = 2**i\n",
    "                break\n",
    "        self.map = [Slot() for _ in range(self.length)]\n",
    "\n",
    "    def __len__(self):\n",
    "        return self.length\n",
    "\n",
    "    def generator_random(self, operations):  # Генератор псевдослучайной последовательности\n",
    "        r = 1\n",
    "        pi = 0\n",
    "        for i in range(operations):\n",
    "            r = 5 * r\n",
    "            r = r % (4 * self.length)\n",
    "            pi = int(r / 4)\n",
    "        return pi\n",
    "\n",
    "    def hash_function(self, val):\n",
    "        return val % self.length\n",
    "\n",
    "    def rehash_function(self, val, depth):  # Функция рехэширования\n",
    "        return (self.hash_function(val) + self.generator_random(depth)) % self.length\n",
    "\n",
    "    def put(self, key, val):\n",
    "        index = self.hash_function(val)\n",
    "        if self.map[index].get_key() is None:\n",
    "            self.map[index] = Slot(key, val)\n",
    "        else:\n",
    "            i = 1\n",
    "            while self.map[index].get_key() is not None:\n",
    "                index = self.rehash_function(val, i)\n",
    "                i += 1\n",
    "            self.map[index] = Slot(key, val)\n",
    "\n",
    "    def get(self, val):\n",
    "        index = self.hash_function(val)\n",
    "        if self.map[index].get_val() == val:\n",
    "            return self.map[index].get_key()\n",
    "        else:\n",
    "            i = 1\n",
    "            while self.map[index].get_val() != val:\n",
    "                index = self.rehash_function(val, i)\n",
    "                i += 1\n",
    "                if i == self.length:\n",
    "                    return None\n",
    "            return self.map[index].get_key()"
   ],
   "metadata": {
    "collapsed": false
   }
  },
  {
   "cell_type": "markdown",
   "source": [
    "###### Метод цепочек:"
   ],
   "metadata": {
    "collapsed": false
   }
  },
  {
   "cell_type": "code",
   "execution_count": 18,
   "outputs": [],
   "source": [
    "class MapChain:\n",
    "\n",
    "    def __init__(self, length):\n",
    "        self.length = length\n",
    "        self.map = [SlotChain() for _ in range(length)]\n",
    "\n",
    "    def hash_function(self, val):\n",
    "        return val % self.length\n",
    "\n",
    "    def put(self, key, val):\n",
    "        index = self.hash_function(val)\n",
    "        if self.map[index].get_key() is None:\n",
    "            self.map[index] = SlotChain(key, val)\n",
    "        else:\n",
    "            self.map[index].put_next_number(key, val)\n",
    "\n",
    "    def get(self, val):\n",
    "        index = self.hash_function(val)\n",
    "        if self.map[index].get_val() == val:\n",
    "            return self.map[index].get_key()\n",
    "        else:\n",
    "            return self.map[index].get_next_number(val)\n",
    "\n",
    "\n",
    "class SlotChain:\n",
    "\n",
    "    def __init__(self, key=None, val=None, next_number=None):\n",
    "        self.val = val  # Значение числа\n",
    "        self.key = key  # Номер в изначальной последовательности\n",
    "        self.next_number = next_number\n",
    "\n",
    "    def put_next_number(self, key, val):\n",
    "        if self.next_number is None:\n",
    "            self.next_number = SlotChain(key, val)\n",
    "        else:\n",
    "            self.next_number.put_next_number(key, val)\n",
    "\n",
    "    def get_next_number(self, val):\n",
    "        if val == self.val:\n",
    "            return self.key\n",
    "        elif self.next_number is None:\n",
    "            return None\n",
    "        else:\n",
    "            return self.next_number.get_next_number(val)\n",
    "\n",
    "    def get_key(self):\n",
    "        return self.key\n",
    "\n",
    "    def get_val(self):\n",
    "        return self.val\n",
    "\n",
    "    def get_next_number_object(self):\n",
    "        return self.next_number\n"
   ],
   "metadata": {
    "collapsed": false
   }
  },
  {
   "cell_type": "markdown",
   "source": [
    "###### Тест функций:"
   ],
   "metadata": {
    "collapsed": false
   }
  },
  {
   "cell_type": "code",
   "execution_count": 19,
   "outputs": [
    {
     "name": "stdout",
     "output_type": "stream",
     "text": [
      "   Размер  Python поиск  Бинарный поиск  Интерполяционный поиск  Фибоначчиев поиск  Бинарное дерево  Рехэширование  Метод цепочек\n",
      "0     100      7.995605       26.346684               14.074326         253.743172        79.766512       7.091761      15.107155\n",
      "1     200     67.910194       20.213842               29.298067         525.742054       474.668503      20.319223      10.043621\n",
      "2     300     85.488558       21.168232                9.104967         842.894077       129.554272       7.097721      10.998964\n",
      "3     400     46.686172       23.128033               11.089802        1187.554121       202.584982      25.313616       7.010460\n"
     ]
    }
   ],
   "source": [
    "import random\n",
    "import time\n",
    "import pandas as pd\n",
    "\n",
    "def get_random_seq(lenght, n):  # Рандомная последовательность длины length и числами от 0 до n\n",
    "    seq = []\n",
    "    for i in range(lenght):\n",
    "        seq.append(random.randint(0, n))\n",
    "    return seq\n",
    "\n",
    "def make_test(list_fun, list_classes):\n",
    "    size_mas = [100, 200, 300, 400]  # Набор длин массивов для теста\n",
    "    s = get_random_seq(size_mas[-1], 10000)  # Генерируем одну длинную последовательность для дальнейшего использования\n",
    "    s.sort()  # Сортируем\n",
    "    results = {}  # Список результатов тестирования для вывода\n",
    "\n",
    "    for fun in list_fun:  # Проходимся по всем функциям поиска\n",
    "        results[fun] = []  # Для конкретной функции создаем список ее результатов\n",
    "        for i in size_mas:  # Будем менять длину тестируемой последовательности\n",
    "            new_s = s[:i]  # Берем кусок нужной длины, из нашей начальной длинной последовательности\n",
    "            find = random.randint(0, len(new_s) - 1)  # Индекс для поиска (можно поставить любую цифру < len(new_s)\n",
    "\n",
    "            if fun == fibonacci_find:  # Отдельно тестируем фибоначчи\n",
    "                fib_seq = fibonacci(len(new_s))  # Делаем предврарительную последовательность фибоначчи\n",
    "                start = time.time()\n",
    "                for j in range(10000):  # Вызываем много раз функцию (иначе результат 0, сильно быстро работают)\n",
    "                    fun(new_s, new_s[find], fib_seq)\n",
    "                results[fun].append((time.time() - start) * 1000)  # Записываем результат\n",
    "            else:\n",
    "                start = time.time()\n",
    "                for j in range(10000):\n",
    "                    fun(new_s, new_s[find])\n",
    "                results[fun].append((time.time() - start) * 1000)\n",
    "\n",
    "    for cls in list_classes:  # Проходимся по всем классам для поиска, и проделываем то же самое, что и выше\n",
    "        results[cls] = []\n",
    "        for i in size_mas:\n",
    "            new_s = s[:i]\n",
    "            find = random.randint(0, len(new_s) - 1)\n",
    "\n",
    "            if cls == BinarySearchTree:  # Отдельно сделаем для бинарного дерева из-за косяка\n",
    "                ex_cls = cls()\n",
    "                for i in range(len(new_s)):\n",
    "                    ex_cls.put(new_s[i], i)  # Косяк в этом: вставка происходит фактически (val, key), а не (key, val)\n",
    "            else:\n",
    "                ex_cls = cls(len(new_s))\n",
    "                for i in range(len(new_s)):\n",
    "                    ex_cls.put(i, new_s[i])\n",
    "            start = time.time()\n",
    "            for j in range(10000):\n",
    "                ex_cls.get(new_s[find])\n",
    "            results[cls].append((time.time() - start) * 1000)\n",
    "\n",
    "    # создаем таблицу с названием и сложностью каждого алгоритма\n",
    "    data = {\n",
    "        \"Размер\": size_mas,\n",
    "        \"Python поиск\": results[python_find],\n",
    "        \"Бинарный поиск\": results[binary_find],\n",
    "        \"Интерполяционный поиск\": results[interpolating_find],\n",
    "        \"Фибоначчиев поиск\": results[fibonacci_find],\n",
    "        \"Бинарное дерево\": results[BinarySearchTree],\n",
    "        \"Рехэширование\": results[MapReHash],\n",
    "        \"Метод цепочек\": results[MapChain]\n",
    "    }\n",
    "    pd.set_option('display.width', 10000)\n",
    "    # Сброс ограничений на число столбцов\n",
    "    pd.set_option('display.max_columns', None)\n",
    "    df = pd.DataFrame(data)\n",
    "\n",
    "    # выводим таблицу\n",
    "    print(df)\n",
    "\n",
    "\n",
    "\n",
    "list_fun = [\n",
    "    python_find,\n",
    "    binary_find,\n",
    "    interpolating_find,\n",
    "    fibonacci_find\n",
    "]\n",
    "list_cls = [\n",
    "    BinarySearchTree,\n",
    "    MapChain,\n",
    "    MapReHash\n",
    "]\n",
    "\n",
    "make_test(list_fun, list_cls)"
   ],
   "metadata": {
    "collapsed": false
   }
  },
  {
   "cell_type": "markdown",
   "source": [
    "#### Задание 3"
   ],
   "metadata": {
    "collapsed": false
   }
  },
  {
   "cell_type": "code",
   "execution_count": 23,
   "outputs": [
    {
     "name": "stdout",
     "output_type": "stream",
     "text": [
      "\n",
      "1  .  .  .  .  .  .  .  \n",
      ".  .  .  .  1  .  .  .  \n",
      ".  .  .  .  .  .  .  1  \n",
      ".  .  .  .  .  1  .  .  \n",
      ".  .  1  .  .  .  .  .  \n",
      ".  .  .  .  .  .  1  .  \n",
      ".  1  .  .  .  .  .  .  \n",
      ".  .  .  1  .  .  .  .  "
     ]
    }
   ],
   "source": [
    "import copy\n",
    "\n",
    "class Desk:\n",
    "\n",
    "    def __init__(self, commit_desk, queens, field, now):\n",
    "        self.commit_desk = commit_desk\n",
    "        self.queens = queens\n",
    "        self.length = 64\n",
    "        self.field = field\n",
    "        self.now = now\n",
    "\n",
    "    def refresh(self, index):\n",
    "        step = 1\n",
    "        stop_list = [1]*8\n",
    "        while stop_list.__contains__(1):\n",
    "            if (index-step) % 8 < 7 and stop_list[0] == 1:  # По горизонтали влево\n",
    "                self.field[index - step] = Cell(2)\n",
    "            else:\n",
    "                stop_list[0] = 0\n",
    "            if (index+step) % 8 > 0 and stop_list[1] == 1:  # По горизонтали вправо\n",
    "                self.field[index + step] = Cell(2)\n",
    "            else:\n",
    "                stop_list[1] = 0\n",
    "            if index-step*8 > 0 and stop_list[2] == 1:  # По вертикали вверх\n",
    "                self.field[index - step * 8] = Cell(2)\n",
    "            else:\n",
    "                stop_list[2] = 0\n",
    "            if index+step*8 < self.length and stop_list[3] == 1:  # По вертикали вниз\n",
    "                self.field[index + step * 8] = Cell(2)\n",
    "            else:\n",
    "                stop_list[3] = 0\n",
    "            if (index-step*7) % 8 > 0 and index-step*7 > 0 and stop_list[4] == 1:  # По диагонали вправо-вверх\n",
    "                self.field[index - step * 7] = Cell(2)\n",
    "            else:\n",
    "                stop_list[4] = 0\n",
    "            if (index+step*7) % 8 < 7 and index + step * 7 < len(self.field) and stop_list[5] == 1:  # По диагонали влево-вниз\n",
    "                self.field[index + step * 7] = Cell(2)\n",
    "            else:\n",
    "                stop_list[5] = 0\n",
    "            if index+step*9 < self.length and (index+step*9) % 8 > 0 and stop_list[6] == 1:  # По диагонали вправо-вниз\n",
    "                self.field[index + step * 9] = Cell(2)\n",
    "            else:\n",
    "                stop_list[6] = 0\n",
    "            if index-step*9 >= 0 and (index-step*9) % 8 < 7 and stop_list[7] == 1:  # По диагонали влево-вверх\n",
    "                self.field[index - step * 9] = Cell(2)\n",
    "            else:\n",
    "                stop_list[7] = 0\n",
    "\n",
    "            step += 1\n",
    "\n",
    "    def print_desk(self):\n",
    "        for i in range(8):\n",
    "            print(\"\")\n",
    "            for j in range(8):\n",
    "                if self.field[j + i * 8].get_value() == 2:\n",
    "                    print(\".\", end=\"  \")\n",
    "                else:\n",
    "                    print(1, end=\"  \")\n",
    "\n",
    "\n",
    "class Cell:\n",
    "\n",
    "    def __init__(self, value=0):\n",
    "        self.value = value  # Значение клетки: 1 - королева, 2 - под боем, 0 - пустая\n",
    "\n",
    "    def get_value(self):\n",
    "        return self.value\n",
    "\n",
    "def put_queens():\n",
    "    desk = Desk(None, 8, [Cell()] * 64, 0)\n",
    "\n",
    "    while desk.queens > 0:\n",
    "        if desk.field[desk.now].get_value() == 0:\n",
    "            desk = Desk(desk, desk.queens-1, copy.deepcopy(desk.field), desk.now)  # Создаем новую доску\n",
    "            desk.field[desk.now] = Cell(value=1)  # Добавляем клетку\n",
    "            desk.refresh(desk.now)  # Обновляем поля \"атаки\" у новой доски\n",
    "\n",
    "        if desk.now == 63 and desk.queens > 0:  # Возврат к предыдущему состоянию\n",
    "            while desk.now > 62:\n",
    "                desk = desk.commit_desk\n",
    "\n",
    "        desk.now += 1\n",
    "\n",
    "    return desk.print_desk()\n",
    "\n",
    "put_queens()"
   ],
   "metadata": {
    "collapsed": false
   }
  }
 ],
 "metadata": {
  "kernelspec": {
   "display_name": "Python 3",
   "language": "python",
   "name": "python3"
  },
  "language_info": {
   "codemirror_mode": {
    "name": "ipython",
    "version": 2
   },
   "file_extension": ".py",
   "mimetype": "text/x-python",
   "name": "python",
   "nbconvert_exporter": "python",
   "pygments_lexer": "ipython2",
   "version": "2.7.6"
  }
 },
 "nbformat": 4,
 "nbformat_minor": 0
}
