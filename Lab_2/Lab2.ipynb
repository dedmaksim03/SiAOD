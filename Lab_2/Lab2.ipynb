{
 "cells": [
  {
   "cell_type": "markdown",
   "id": "fifteen-sailing",
   "metadata": {
    "id": "fifteen-sailing"
   },
   "source": [
    "# Лабораторная работа №2\n",
    "## Выполнил студент группы БВТ2101 Горский Максим Сергеевич\n"
   ]
  },
  {
   "cell_type": "markdown",
   "id": "arctic-stocks",
   "metadata": {
    "id": "arctic-stocks"
   },
   "source": [
    "Реализовать следующие структуры данных:\n",
    "  \n",
    "● <b> Стек (stack): </b>  \n",
    "Операции для стека: \n",
    "<i> инициализация, проверка на пустоту, добавление нового элемента в начало, извлечение элемента из начала;  </i>  \n",
    "  \n",
    "● <b> Дек (двусторонняя очередь, deque):  </b>  \n",
    "Операции для дека: \n",
    "<i> инициализация, проверка на пустоту, добавление нового элемента в начало, добавление нового элемента в конец, извлечение элемента из начала, извлечение элемента из конца. </i>  \n",
    "  \n",
    "<i> Разработать программу обработки данных, содержащихся в заранее подготовленном txt-файле, в соответствии с заданиями, применив указанную в задании структуру данных. Результат работы программы вывести на экран и сохранить в отдельном txt-файле. </i>"
   ]
  },
  {
   "cell_type": "code",
   "execution_count": 2,
   "id": "FrPlSDYBSeMd",
   "metadata": {
    "id": "FrPlSDYBSeMd"
   },
   "outputs": [],
   "source": [
    "import io\n",
    "import shlex\n",
    "\n",
    "class Deque:\n",
    "    def __init__(self):\n",
    "        self.items = []\n",
    "\n",
    "    def is_empty(self):\n",
    "        return self.items == []\n",
    "\n",
    "    def add_left(self, item):\n",
    "        self.items.insert(0, item)\n",
    "\n",
    "    def add_right(self, item):\n",
    "        self.items.append(item)\n",
    "\n",
    "    def remove_right(self):\n",
    "        return self.items.pop()\n",
    "\n",
    "    def remove_left(self):\n",
    "        return self.items.pop(0)\n",
    "    \n",
    "    def print_deq(self):\n",
    "        print(self.items)\n",
    "\n",
    "    def size(self):\n",
    "        return len(self.items)\n",
    "\n",
    "class Stack:\n",
    "    def __init__(self):\n",
    "        self.stack = []\n",
    "\n",
    "    def is_empty(self):\n",
    "        return len(self.stack) == 0\n",
    "\n",
    "    def push(self, item):\n",
    "        self.stack.append(item)\n",
    "\n",
    "    def pop(self):\n",
    "        return self.stack.pop()\n",
    "\n",
    "    def size(self):\n",
    "        return len(self.stack)"
   ]
  },
  {
   "cell_type": "code",
   "execution_count": 5,
   "id": "1d0f5144",
   "metadata": {},
   "outputs": [
    {
     "name": "stdout",
     "output_type": "stream",
     "text": [
      "[2]\n",
      "[1, 2]\n"
     ]
    }
   ],
   "source": [
    "deque = Deque()\n",
    "deque.add_left(2)\n",
    "deque.print_deq()\n",
    "deque.add_left(1)\n",
    "deque.print_deq()"
   ]
  },
  {
   "cell_type": "markdown",
   "id": "5d7edb08",
   "metadata": {
    "id": "5d7edb08",
    "scrolled": true
   },
   "source": [
    "### Задание №1\n",
    "Отсортировать строки файла, содержащие названия книг, в алфавитном порядке с использованием двух деков."
   ]
  },
  {
   "cell_type": "code",
   "execution_count": 2,
   "id": "17702ade",
   "metadata": {
    "colab": {
     "base_uri": "https://localhost:8080/"
    },
    "id": "17702ade",
    "outputId": "1afe8d27-748a-4a8f-f707-a82c06870ffc"
   },
   "outputs": [
    {
     "name": "stdout",
     "output_type": "stream",
     "text": [
      "['Abbey of Nightmares', \"Alice's Adventures in Wonderland\", 'Emma', 'Robinson Crusoe', 'Scarlet Letter', \"The Pilgrim's Journey to the Heavenly Country\"]\n"
     ]
    }
   ],
   "source": [
    "def _sort_books(_first: Deque, _second: Deque):\n",
    "    min_name = chr(126)  # Максимально возможный символ\n",
    "\n",
    "    while not _second.is_empty():\n",
    "        name = _second.remove_left()\n",
    "        for i in range(len(min_name)):\n",
    "            if name[i] < min_name[i]:\n",
    "                _first.add_left(name)\n",
    "                min_name = name\n",
    "                break\n",
    "            elif name[i] > min_name[i]:\n",
    "                _first.add_right(name)\n",
    "                break\n",
    "\n",
    "    return _first.remove_left()\n",
    "\n",
    "first = Deque()\n",
    "second = Deque()\n",
    "sorted_books = []\n",
    "file = io.open('text_files/books.txt', encoding='utf-8')\n",
    "books = file.read().split('\\n')\n",
    "for name in books:\n",
    "    second.add_right(name)\n",
    "switch = True\n",
    "while not second.is_empty() or not first.is_empty():\n",
    "    if switch:\n",
    "        sorted_books.append(_sort_books(first, second))\n",
    "        switch = False\n",
    "    else:\n",
    "        sorted_books.append(_sort_books(second, first))\n",
    "        switch = True\n",
    "print(sorted_books)"
   ]
  },
  {
   "cell_type": "markdown",
   "id": "49fbd2a0",
   "metadata": {
    "id": "49fbd2a0"
   },
   "source": [
    "### Задание №2\n",
    "Дек содержит последовательность символов для шифровки сообщений. Дан текстовый файл, содержащий зашифрованное сообщение. Пользуясь деком, расшифровать текст. \n",
    "Известно, что при шифровке каждый символ сообщения заменялся следующим за ним в деке по часовой стрелке через один."
   ]
  },
  {
   "cell_type": "code",
   "execution_count": 4,
   "id": "81cab7a8",
   "metadata": {
    "id": "81cab7a8"
   },
   "outputs": [
    {
     "name": "stdout",
     "output_type": "stream",
     "text": [
      "хщюрё\n",
      "пушка\n"
     ]
    }
   ],
   "source": [
    "alfabet = \"абвгдеёжзиклмнопрстуфхцчшщъыьэюя\"\n",
    "def encrypt(n, word):\n",
    "    new_word = \"\"\n",
    "    k = -1\n",
    "    deque = Deque()\n",
    "    for i in alfabet:\n",
    "        deque.add_right(i)\n",
    "    while len(word) > 0:\n",
    "        change_char = deque.remove_left()\n",
    "        if k >= 1 and k != n:\n",
    "            k += 1\n",
    "        elif k >= 1 and k == n:\n",
    "            new_word += change_char\n",
    "            word = word[1:]\n",
    "            k = -1\n",
    "        if len(word) > 0 and word[0] == change_char:\n",
    "            k = 1\n",
    "\n",
    "        deque.add_right(change_char)\n",
    "    return new_word\n",
    "\n",
    "def decrypt(n, word):\n",
    "    new_word = \"\"\n",
    "    k = -1\n",
    "    deque = Deque()\n",
    "    for i in alfabet:\n",
    "        deque.add_right(i)\n",
    "    while len(word) > 0:\n",
    "        change_char = deque.remove_right()\n",
    "        if k >= 1 and k != n:\n",
    "            k += 1\n",
    "        elif k >= 1 and k == n:\n",
    "            new_word += change_char\n",
    "            word = word[1:]\n",
    "            k = -1\n",
    "        if len(word) > 0 and word[0] == change_char:\n",
    "            k = 1\n",
    "\n",
    "        deque.add_left(change_char)\n",
    "    return new_word\n",
    "\n",
    "print(encrypt(6, \"пушка\"))\n",
    "print(decrypt(6, \"хщюрё\"))"
   ]
  },
  {
   "cell_type": "markdown",
   "id": "c0894f47",
   "metadata": {
    "id": "c0894f47"
   },
   "source": [
    "### Задание №3\n",
    "Даны три стержня и n дисков различного размера. Диски можно надевать на стержни, образуя из них башни. Перенести n дисков со стержня А на стержень С, сохранив их первоначальный порядок. При переносе дисков необходимо соблюдать следующие правила:\n",
    "- на каждом шаге со стержня на стержень переносить только один диск;\n",
    "- диск нельзя помещать на диск меньшего размера;\n",
    "- для промежуточного хранения можно использовать стержень В.\n",
    "Реализовать алгоритм, используя три стека вместо стержней А, В, С. Информация о дисках хранится в исходном файле."
   ]
  },
  {
   "cell_type": "code",
   "execution_count": 4,
   "id": "9e91a9d4",
   "metadata": {
    "id": "9e91a9d4"
   },
   "outputs": [
    {
     "name": "stdout",
     "output_type": "stream",
     "text": [
      "['5', '4', '3', '2', '1']\n",
      "c:  1\n",
      "c:  2\n",
      "c:  3\n",
      "c:  4\n",
      "c:  5\n"
     ]
    }
   ],
   "source": [
    "a, b, c = Stack(), Stack(), Stack()\n",
    "\n",
    "def hanoi(n, start, temp, end):\n",
    "    if n <= 1:\n",
    "        return\n",
    "    elif n == 2:\n",
    "        temp.push(start.pop())\n",
    "        end.push(start.pop())\n",
    "        end.push(temp.pop())\n",
    "    else:\n",
    "        hanoi(n - 1, start, end, temp)\n",
    "        end.push(start.pop())\n",
    "        hanoi(n - 1, temp, start, end)\n",
    "    \n",
    "with open(\"text_files/towers_of_hanoi.txt\", 'r') as f:\n",
    "    for line in f:\n",
    "        word = line.strip().split(\" \")[::-1]\n",
    "        print(word)\n",
    "        n = len(word)\n",
    "        for i in word:\n",
    "            a.push(int(i))\n",
    "        hanoi(n, a, b, c)\n",
    "        while not c.is_empty():\n",
    "            print(\"c: \", c.pop())"
   ]
  },
  {
   "cell_type": "markdown",
   "id": "e5b0be17",
   "metadata": {
    "id": "e5b0be17"
   },
   "source": [
    "### Задание №4\n",
    "Дан текстовый файл с программой на алгоритмическом языке. За один просмотр файла проверить баланс круглых скобок в тексте, используя стек."
   ]
  },
  {
   "cell_type": "code",
   "execution_count": 5,
   "id": "5b1df60a",
   "metadata": {
    "colab": {
     "base_uri": "https://localhost:8080/"
    },
    "id": "5b1df60a",
    "outputId": "95cbe67a-3942-490c-b69f-f9d908b03153"
   },
   "outputs": [
    {
     "name": "stdout",
     "output_type": "stream",
     "text": [
      "Баланс сошелся\n"
     ]
    }
   ],
   "source": [
    "file = io.open(\"text_files/algorithm_language.txt\", encoding='utf-8')\n",
    "stack = Stack()\n",
    "words = shlex.split(file.read())  # Записываем в спомогательный массив содержимое файла\n",
    "for item in words:  # Заполняем стек\n",
    "    stack.push(item)\n",
    "op, close = 0, 0  # Количество открытых и закрытых скобок\n",
    "for i in range(0, stack.size(), 1):\n",
    "    item = stack.pop()\n",
    "    if item == '[':\n",
    "        op += 1\n",
    "    if item == ']':\n",
    "        close += 1\n",
    "if op == close:\n",
    "    print(\"Баланс сошелся\")\n",
    "else: \n",
    "    print(\"Баланс не сошелся\")"
   ]
  },
  {
   "cell_type": "markdown",
   "id": "c44cdd6b",
   "metadata": {
    "id": "c44cdd6b"
   },
   "source": [
    "### Задание №5\n",
    "Дан текстовый файл с программой на алгоритмическом языке. За один просмотр файла проверить баланс квадратных скобок в тексте, используя дек."
   ]
  },
  {
   "cell_type": "code",
   "execution_count": 7,
   "id": "36b8f400",
   "metadata": {
    "colab": {
     "base_uri": "https://localhost:8080/"
    },
    "id": "36b8f400",
    "outputId": "d6ca0878-3b52-401e-9d8d-6cca161df31a"
   },
   "outputs": [
    {
     "name": "stdout",
     "output_type": "stream",
     "text": [
      "Баланс сошелся\n"
     ]
    }
   ],
   "source": [
    "file = io.open(\"text_files/algorithm_language.txt\", encoding='utf-8')\n",
    "deque = Deque()\n",
    "string = file.read()\n",
    "for symbol in string:\n",
    "    if symbol == \"(\":  # Если открытая, то добавляем в дек\n",
    "        deque.add_right(symbol)\n",
    "    elif symbol == \")\":  # Если закрытая, то, если дек не пустой, убираем одну открытую из дека\n",
    "        if deque.is_empty():\n",
    "            print(\"Баланс не сошелся\")\n",
    "        deque.remove_right()\n",
    "if deque.size() % 2 == 0:\n",
    "    print(\"Баланс сошелся\")\n",
    "else:\n",
    "    print(\"Баланс не сошелся\")"
   ]
  },
  {
   "cell_type": "markdown",
   "id": "59d13dc7",
   "metadata": {
    "id": "59d13dc7"
   },
   "source": [
    "### Задание №6\n",
    "Дан файл из символов. Используя стек, за один просмотр файла напечатать сначала все цифры, затем все буквы, и, наконец, все остальные символы, сохраняя исходный порядок в каждой группе символов."
   ]
  },
  {
   "cell_type": "code",
   "execution_count": 9,
   "id": "297e36c2",
   "metadata": {
    "colab": {
     "base_uri": "https://localhost:8080/"
    },
    "id": "297e36c2",
    "outputId": "679736b3-c245-4395-df14-fdb0fb382221"
   },
   "outputs": [
    {
     "name": "stdout",
     "output_type": "stream",
     "text": [
      "5 8 2 3 h f k g f g g h l G $ ) ) @ *\n"
     ]
    }
   ],
   "source": [
    "file = io.open(\"text_files/symbols.txt\", encoding='utf-8')\n",
    "numbers = Stack()\n",
    "symbols = Stack()\n",
    "etc = Stack()\n",
    "string = file.read()\n",
    "for i in range(len(string)-1, -1, -1):\n",
    "    if string[i].isdigit():\n",
    "        numbers.push(string[i])\n",
    "    elif string[i].isalpha():\n",
    "        symbols.push(string[i])\n",
    "    else:\n",
    "        etc.push(string[i])\n",
    "out = []\n",
    "while not numbers.is_empty():\n",
    "    out.append(numbers.pop())\n",
    "while not symbols.is_empty():\n",
    "    out.append(symbols.pop())\n",
    "while not etc.is_empty():\n",
    "    out.append(etc.pop())\n",
    "print(*out)"
   ]
  },
  {
   "cell_type": "markdown",
   "id": "973f68bd",
   "metadata": {
    "id": "973f68bd"
   },
   "source": [
    "### Задание №7\n",
    "Дан файл из целых чисел. Используя дек, за один просмотр файла напечатать сначала все отрицательные числа, затем все положительные числа, сохраняя исходный порядок в каждой группе."
   ]
  },
  {
   "cell_type": "code",
   "execution_count": 10,
   "id": "c56fad66",
   "metadata": {
    "colab": {
     "base_uri": "https://localhost:8080/"
    },
    "id": "c56fad66",
    "outputId": "f0c1d415-5fe1-4521-e392-a6b2678c9026"
   },
   "outputs": [
    {
     "name": "stdout",
     "output_type": "stream",
     "text": [
      "-1 -2 -3 -4 -7 -8 1 2 3 4 5 6 9 "
     ]
    }
   ],
   "source": [
    "file = io.open(\"text_files/numbers.txt\", encoding='utf-8')\n",
    "s = file.read().split(\" \")\n",
    "numbers = Deque()\n",
    "for number in s:\n",
    "    if int(number) < 0:\n",
    "        print(number, end=\" \")\n",
    "    else:\n",
    "        numbers.add_right(int(number))\n",
    "for i in range(numbers.size()):\n",
    "      print(numbers.remove_left(), end=\" \")"
   ]
  },
  {
   "cell_type": "markdown",
   "id": "b9228191",
   "metadata": {
    "id": "b9228191"
   },
   "source": [
    "### Задание №8\n",
    "Дан текстовый файл. Используя стек, сформировать новый текстовый файл, содержащий строки исходного файла, записанные в обратном порядке: первая строка становится последней, вторая – предпоследней и т.д."
   ]
  },
  {
   "cell_type": "code",
   "execution_count": 11,
   "id": "981fbdfe",
   "metadata": {
    "colab": {
     "base_uri": "https://localhost:8080/"
    },
    "id": "981fbdfe",
    "outputId": "5ca209cb-60c3-4557-9ef7-6701fbe20f63"
   },
   "outputs": [
    {
     "name": "stdout",
     "output_type": "stream",
     "text": [
      "Шестое - Такова его природа\n",
      "Пятое - Город под подошвой, жвачка на окне\n",
      "Четвертое - Сложный план и простой план\n",
      "Третье - Владимир соловьев мой родственник\n",
      "Второе - Моя игра, моя игра, она мне принадлежит и таким же как и я\n",
      "Первое - Шла саша по шоссе и сосала сушку\n",
      "\n"
     ]
    }
   ],
   "source": [
    "file = io.open(\"text_files/strings.txt\", encoding='utf-8')\n",
    "strings = file.read().split(\"\\n\")\n",
    "stack = Stack()\n",
    "for string in strings:\n",
    "    stack.push(string)\n",
    "out = \"\"\n",
    "while not stack.is_empty():\n",
    "    out += stack.pop() + \"\\n\"\n",
    "print(out)"
   ]
  },
  {
   "cell_type": "markdown",
   "id": "rental-jerusalem",
   "metadata": {
    "id": "rental-jerusalem"
   },
   "source": [
    "### Вывод\n"
   ]
  },
  {
   "cell_type": "markdown",
   "id": "0c2b8899",
   "metadata": {
    "id": "0c2b8899"
   },
   "source": [
    "В ходе проделанной работы мы изучили различные структуры данных, разработали алгоритмы с их применением"
   ]
  }
 ],
 "metadata": {
  "colab": {
   "provenance": []
  },
  "kernelspec": {
   "display_name": "Python 3 (ipykernel)",
   "language": "python",
   "name": "python3"
  },
  "language_info": {
   "codemirror_mode": {
    "name": "ipython",
    "version": 3
   },
   "file_extension": ".py",
   "mimetype": "text/x-python",
   "name": "python",
   "nbconvert_exporter": "python",
   "pygments_lexer": "ipython3",
   "version": "3.9.13"
  }
 },
 "nbformat": 4,
 "nbformat_minor": 5
}
