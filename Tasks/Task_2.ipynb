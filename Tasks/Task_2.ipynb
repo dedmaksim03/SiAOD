{
 "cells": [
  {
   "cell_type": "markdown",
   "id": "4f5d655a",
   "metadata": {},
   "source": [
    "\n"
   ]
  },
  {
   "cell_type": "markdown",
   "source": [
    "# Контрольные задачи по дисциплине СиАОД №2\n",
    "## Выполнил студент группы БВТ2101 Горский Максим Сергеевич"
   ],
   "metadata": {
    "collapsed": false
   }
  },
  {
   "cell_type": "markdown",
   "source": [
    "### Оглавление\n",
    "1. [Задача 1](#Задание-№1)\n",
    "2. [Задача 2](#Задание-№2)\n",
    "3. [Задача 3](#Задание-№3)"
   ],
   "metadata": {
    "collapsed": false
   }
  },
  {
   "cell_type": "markdown",
   "source": [
    "### Задача 1\n",
    "Даны две строки: s1 и s2 с одинаковым размером, проверьте, может ли\n",
    "некоторая перестановка строки s1 “победить” некоторую перестановку\n",
    "строки s2 или наоборот.\n",
    "Строка x может “победить” строку y (обе имеют размер n), если x[i]> = y\n",
    "[i] (в алфавитном порядке) для всех i от 0 до n-1"
   ],
   "metadata": {
    "collapsed": false
   }
  },
  {
   "cell_type": "code",
   "execution_count": 1,
   "id": "05b006a0",
   "metadata": {
    "ExecuteTime": {
     "end_time": "2023-05-15T16:34:27.081826300Z",
     "start_time": "2023-05-15T16:34:27.042413900Z"
    }
   },
   "outputs": [
    {
     "name": "stdout",
     "output_type": "stream",
     "text": [
      "True\n",
      "False\n"
     ]
    }
   ],
   "source": [
    "def string_championship(s1, s2):\n",
    "    n = len(s1)\n",
    "    s1_splt = list(s1)\n",
    "    s2_splt = list(s2)\n",
    "    s1_splt.sort()\n",
    "    s2_splt.sort()\n",
    "    count = 0\n",
    "    for i in range(len(s1)):\n",
    "        if s1_splt[i] > s2_splt[i]:\n",
    "            count += 1\n",
    "        elif s1_splt[i] < s2_splt[i]:\n",
    "            count -= 1\n",
    "        else:\n",
    "            n -= 1\n",
    "    return abs(count) == n\n",
    "    \n",
    "\n",
    "print(string_championship(\"abc\",\"xya\"))\n",
    "print(string_championship(\"abe\",\"acd\"))"
   ]
  },
  {
   "cell_type": "markdown",
   "id": "6303d8a0",
   "metadata": {},
   "source": [
    "### Задача 2\n",
    "Дана строка s, вернуть самую длинную палиндромную подстроку в s."
   ]
  },
  {
   "cell_type": "code",
   "execution_count": 2,
   "id": "5d337c92",
   "metadata": {
    "ExecuteTime": {
     "end_time": "2023-05-15T16:34:27.160620Z",
     "start_time": "2023-05-15T16:34:27.076841Z"
    }
   },
   "outputs": [
    {
     "name": "stdout",
     "output_type": "stream",
     "text": [
      "bab\n",
      "bb\n",
      "Палиндрома нет\n"
     ]
    }
   ],
   "source": [
    "def is_palindrome(s):\n",
    "    for i in range(0, len(s)//2):\n",
    "        if s[i] != s[-i-1]:\n",
    "            return False\n",
    "    return True\n",
    "\n",
    "\n",
    "def max_palindrome(s):\n",
    "    for i in range(len(s), 1, -1):\n",
    "        for j in range(0, len(s)-i+1):\n",
    "            if is_palindrome(s[j:i+j]):\n",
    "                return s[j:i+j]\n",
    "    return \"Палиндрома нет\"\n",
    "\n",
    "\n",
    "print(max_palindrome(\"babad\"))\n",
    "print(max_palindrome(\"cbbd\"))\n",
    "print(max_palindrome(\"abc\"))\n",
    "    \n"
   ]
  },
  {
   "cell_type": "markdown",
   "id": "dd4c25be",
   "metadata": {},
   "source": [
    "### Задача 3\n",
    "Вернуть количество отдельных непустых подстрок текста, которые могут\n",
    "быть записаны как конкатенация некоторой строки с самой собой (т.е. она\n",
    "может быть записана, как a + a, где a - некоторая строка)."
   ]
  },
  {
   "cell_type": "code",
   "execution_count": 3,
   "id": "efe6c456",
   "metadata": {
    "ExecuteTime": {
     "end_time": "2023-05-15T16:34:27.339148300Z",
     "start_time": "2023-05-15T16:34:27.185550Z"
    }
   },
   "outputs": [
    {
     "name": "stdout",
     "output_type": "stream",
     "text": [
      "abcabc\n",
      "bcabca\n",
      "cabcab\n",
      "3\n"
     ]
    }
   ],
   "source": [
    "def is_concatenation(s):\n",
    "    if len(s) % 2 != 0:\n",
    "        return False\n",
    "    if len(s) == 2:\n",
    "        return s[0] == s[1]\n",
    "    return s[0:len(s)//2-1] == s[len(s)//2:-1]\n",
    "\n",
    "\n",
    "def concatenation(s):\n",
    "    count = 0\n",
    "    strings = []\n",
    "    for i in range(len(s), 1, -1):\n",
    "        for j in range(0, len(s) - i + 1):\n",
    "            if is_concatenation(s[j:i + j]) and s[j:i+j] not in strings:\n",
    "                count += 1\n",
    "                strings.append(s[j:i+j])\n",
    "                print(s[j:i + j])\n",
    "    return count\n",
    "\n",
    "print(concatenation(\"abcabcabc\"))\n"
   ]
  },
  {
   "cell_type": "code",
   "execution_count": 3,
   "id": "a4e5f652",
   "metadata": {
    "ExecuteTime": {
     "end_time": "2023-05-15T16:34:27.341133800Z",
     "start_time": "2023-05-15T16:34:27.231427600Z"
    }
   },
   "outputs": [],
   "source": []
  }
 ],
 "metadata": {
  "kernelspec": {
   "display_name": "Python 3 (ipykernel)",
   "language": "python",
   "name": "python3"
  },
  "language_info": {
   "codemirror_mode": {
    "name": "ipython",
    "version": 3
   },
   "file_extension": ".py",
   "mimetype": "text/x-python",
   "name": "python",
   "nbconvert_exporter": "python",
   "pygments_lexer": "ipython3",
   "version": "3.9.13"
  }
 },
 "nbformat": 4,
 "nbformat_minor": 5
}
