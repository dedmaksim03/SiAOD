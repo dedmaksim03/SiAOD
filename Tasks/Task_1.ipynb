{
 "cells": [
  {
   "cell_type": "markdown",
   "id": "4f5d655a",
   "metadata": {},
   "source": [
    "\n"
   ]
  },
  {
   "cell_type": "markdown",
   "source": [
    "# Контрольные задачи по дисциплине СиАОД №1\n",
    "## Выполнил студент группы БВТ2101 Горский Максим Сергеевич"
   ],
   "metadata": {
    "collapsed": false
   }
  },
  {
   "cell_type": "markdown",
   "source": [
    "### Оглавление\n",
    "1. [Задача 1](#Задание-№1)\n",
    "2. [Задача 2](#Задание-№2)\n",
    "3. [Задача 3](#Задание-№3)"
   ],
   "metadata": {
    "collapsed": false
   }
  },
  {
   "cell_type": "markdown",
   "source": [
    "### Задача 1\n",
    "Массив A состоит из целых положительных чисел - длин отрезков. Составьте из трех отрезков такой треугольник, чтобы его периметр был максимально возможным. Если невозможно\n",
    "составить треугольник с положительной площадью - функция возвращает 0."
   ],
   "metadata": {
    "collapsed": false
   }
  },
  {
   "cell_type": "code",
   "execution_count": 1,
   "id": "05b006a0",
   "metadata": {
    "ExecuteTime": {
     "end_time": "2023-05-15T16:34:42.082229Z",
     "start_time": "2023-05-15T16:34:42.033682900Z"
    }
   },
   "outputs": [
    {
     "name": "stdout",
     "output_type": "stream",
     "text": [
      "8\n"
     ]
    }
   ],
   "source": [
    "# Находит из массива ребер такие, что треугольник из них имеет максимальный периметр\n",
    "def triangle(mas):\n",
    "    mas.sort()\n",
    "    a, b, c = mas[-1], mas[-2], mas[-3]\n",
    "    while mas:\n",
    "        if b+c > a:\n",
    "            return a+b+c\n",
    "        elif len(mas) > 3:\n",
    "            mas.pop()\n",
    "            a, b, c = mas[-1], mas[-2], mas[-3]\n",
    "        else:\n",
    "            break\n",
    "    return 0\n",
    "\n",
    "print(triangle([3, 6, 2, 3]))"
   ]
  },
  {
   "cell_type": "markdown",
   "id": "6303d8a0",
   "metadata": {},
   "source": [
    "### Задача 2\n",
    "Дан массив неотрицательных целых чисел nums. Расположите их в таком порядке, чтобы\n",
    "вместе они образовали максимально возможное число"
   ]
  },
  {
   "cell_type": "code",
   "execution_count": 2,
   "id": "5d337c92",
   "metadata": {
    "ExecuteTime": {
     "end_time": "2023-05-15T16:34:42.170988100Z",
     "start_time": "2023-05-15T16:34:42.084222900Z"
    }
   },
   "outputs": [
    {
     "name": "stdout",
     "output_type": "stream",
     "text": [
      "9534330\n"
     ]
    }
   ],
   "source": [
    "def max_number_seq(mas: list):\n",
    "    result = \"\"\n",
    "\n",
    "    while len(mas) != 0:\n",
    "        max_number = -1\n",
    "        max_index = -1\n",
    "\n",
    "        for index in range(len(mas)):\n",
    "            number = mas[index] / 10 ** (len(str(mas[index])) - 1)\n",
    "\n",
    "            if number > max_number or (number == max_number and len(str(mas[index])) < len(str(mas[max_index]))):\n",
    "                max_number = number\n",
    "                max_index = index\n",
    "\n",
    "        result += str(mas[max_index])\n",
    "        mas.pop(max_index)\n",
    "\n",
    "    return result\n",
    "\n",
    "print(max_number_seq([3,30,34,5,9]))"
   ]
  },
  {
   "cell_type": "markdown",
   "id": "dd4c25be",
   "metadata": {},
   "source": [
    "### Задача 3\n",
    "Дана матрица mat размером m * n, значения - целочисленные. Напишите функцию, сортирующую каждую диагональ матрицы по возрастанию и возвращающую получившуюся матрицу."
   ]
  },
  {
   "cell_type": "code",
   "execution_count": 3,
   "id": "efe6c456",
   "metadata": {
    "ExecuteTime": {
     "end_time": "2023-05-15T16:34:42.178968300Z",
     "start_time": "2023-05-15T16:34:42.119128700Z"
    }
   },
   "outputs": [
    {
     "name": "stdout",
     "output_type": "stream",
     "text": [
      "[5, 17, 4, 1, 52, 7]\n",
      "[11, 11, 25, 45, 8, 69]\n",
      "[14, 23, 25, 44, 58, 15]\n",
      "[22, 27, 31, 36, 50, 66]\n",
      "[84, 28, 75, 33, 55, 68]\n"
     ]
    }
   ],
   "source": [
    "def sort_diagonals_matrix(matrix):\n",
    "    m = len(matrix)  # Строки\n",
    "    n = len(matrix[0])  # Столбцы\n",
    "    diagonals = n + m - 1  # Количество диагоналей\n",
    "    i, j = m - 1, 0\n",
    "    for diagonal in range(diagonals, 0, -1):\n",
    "        for_sort = [matrix[i][j]]\n",
    "        while i < m-1 and j < n-1:\n",
    "            i += 1\n",
    "            j += 1\n",
    "            for_sort.append(matrix[i][j])\n",
    "\n",
    "        for_sort.sort()\n",
    "\n",
    "        while i >= 0 and j >= 0:\n",
    "            matrix[i][j] = for_sort[-1]\n",
    "            for_sort.pop()\n",
    "            i -= 1\n",
    "            j -= 1\n",
    "        else:\n",
    "            i += 1\n",
    "            j += 1\n",
    "        if i > 0:\n",
    "            i, j = diagonal - m - 2, 0\n",
    "        else:\n",
    "            i, j = 0, n - diagonal + 1\n",
    "\n",
    "    return matrix\n",
    "\n",
    "m1 = [[3, 3, 1, 1],\n",
    "      [2, 2, 1, 2],\n",
    "      [1, 1, 1, 2]]\n",
    "\n",
    "m2 = [[11, 25, 66, 1, 69, 7],\n",
    "      [23, 55, 17, 45, 15, 52],\n",
    "      [75, 31, 36, 44, 58, 8],\n",
    "      [22, 27, 33, 25, 68, 4],\n",
    "      [84, 28, 14, 11, 5, 50]]\n",
    "\n",
    "result = sort_diagonals_matrix(m2)\n",
    "for i in range(len(result)):\n",
    "    print(result[i])"
   ]
  }
 ],
 "metadata": {
  "kernelspec": {
   "display_name": "Python 3 (ipykernel)",
   "language": "python",
   "name": "python3"
  },
  "language_info": {
   "codemirror_mode": {
    "name": "ipython",
    "version": 3
   },
   "file_extension": ".py",
   "mimetype": "text/x-python",
   "name": "python",
   "nbconvert_exporter": "python",
   "pygments_lexer": "ipython3",
   "version": "3.9.13"
  }
 },
 "nbformat": 4,
 "nbformat_minor": 5
}
